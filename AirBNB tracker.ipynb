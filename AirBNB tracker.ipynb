{
 "cells": [
  {
   "cell_type": "markdown",
   "id": "42821897",
   "metadata": {},
   "source": [
    "# AirBNB tracker"
   ]
  },
  {
   "cell_type": "code",
   "execution_count": 1,
   "id": "b4c663f2",
   "metadata": {
    "ExecuteTime": {
     "end_time": "2024-05-04T07:11:16.545564Z",
     "start_time": "2024-05-04T07:11:05.121327Z"
    }
   },
   "outputs": [],
   "source": [
    "import numpy as np\n",
    "import datetime\n",
    "import pandas as pd\n",
    "import pyperclip\n",
    "import pickle\n",
    "import re"
   ]
  },
  {
   "cell_type": "code",
   "execution_count": 2,
   "id": "broad-avenue",
   "metadata": {
    "ExecuteTime": {
     "end_time": "2024-05-04T07:11:16.620816Z",
     "start_time": "2024-05-04T07:11:16.549128Z"
    },
    "scrolled": true
   },
   "outputs": [
    {
     "name": "stdout",
     "output_type": "stream",
     "text": [
      "(2629, 12)\n"
     ]
    },
    {
     "data": {
      "text/html": [
       "<div>\n",
       "<style scoped>\n",
       "    .dataframe tbody tr th:only-of-type {\n",
       "        vertical-align: middle;\n",
       "    }\n",
       "\n",
       "    .dataframe tbody tr th {\n",
       "        vertical-align: top;\n",
       "    }\n",
       "\n",
       "    .dataframe thead th {\n",
       "        text-align: right;\n",
       "    }\n",
       "</style>\n",
       "<table border=\"1\" class=\"dataframe\">\n",
       "  <thead>\n",
       "    <tr style=\"text-align: right;\">\n",
       "      <th></th>\n",
       "      <th>date_enregistrement</th>\n",
       "      <th>texte</th>\n",
       "      <th>type</th>\n",
       "      <th>ville</th>\n",
       "      <th>description</th>\n",
       "      <th>prix</th>\n",
       "      <th>note</th>\n",
       "      <th>nb_avis</th>\n",
       "      <th>nb_lits</th>\n",
       "      <th>nb_chambres</th>\n",
       "      <th>est_professionnel</th>\n",
       "      <th>est_nouveau</th>\n",
       "    </tr>\n",
       "  </thead>\n",
       "  <tbody>\n",
       "    <tr>\n",
       "      <th>2627</th>\n",
       "      <td>2024-04-21</td>\n",
       "      <td>Hébergement ⋅ Villejuif\\nMaison style loft jar...</td>\n",
       "      <td>Hébergement</td>\n",
       "      <td>Villejuif</td>\n",
       "      <td>Maison style loft jardin proche paris</td>\n",
       "      <td>1078</td>\n",
       "      <td>NaN</td>\n",
       "      <td>NaN</td>\n",
       "      <td>NaN</td>\n",
       "      <td>NaN</td>\n",
       "      <td>False</td>\n",
       "      <td>False</td>\n",
       "    </tr>\n",
       "    <tr>\n",
       "      <th>2628</th>\n",
       "      <td>2024-04-21</td>\n",
       "      <td>Appartement ⋅ Montrouge\\nL'Oeil de l'artiste -...</td>\n",
       "      <td>Appartement</td>\n",
       "      <td>Montrouge</td>\n",
       "      <td>L'Oeil de l'artiste - au coeur de Montrouge</td>\n",
       "      <td>495</td>\n",
       "      <td>4.56</td>\n",
       "      <td>27.0</td>\n",
       "      <td>NaN</td>\n",
       "      <td>NaN</td>\n",
       "      <td>False</td>\n",
       "      <td>False</td>\n",
       "    </tr>\n",
       "  </tbody>\n",
       "</table>\n",
       "</div>"
      ],
      "text/plain": [
       "     date_enregistrement                                              texte  \\\n",
       "2627          2024-04-21  Hébergement ⋅ Villejuif\\nMaison style loft jar...   \n",
       "2628          2024-04-21  Appartement ⋅ Montrouge\\nL'Oeil de l'artiste -...   \n",
       "\n",
       "             type      ville                                  description  \\\n",
       "2627  Hébergement  Villejuif        Maison style loft jardin proche paris   \n",
       "2628  Appartement  Montrouge  L'Oeil de l'artiste - au coeur de Montrouge   \n",
       "\n",
       "      prix  note  nb_avis  nb_lits  nb_chambres  est_professionnel  \\\n",
       "2627  1078   NaN      NaN      NaN          NaN              False   \n",
       "2628   495  4.56     27.0      NaN          NaN              False   \n",
       "\n",
       "      est_nouveau  \n",
       "2627        False  \n",
       "2628        False  "
      ]
     },
     "execution_count": 2,
     "metadata": {},
     "output_type": "execute_result"
    }
   ],
   "source": [
    "tous_les_logements = pickle.load(open('tous_les_logements.p', 'rb'))\n",
    "print(tous_les_logements.shape)\n",
    "tous_les_logements.tail(2)"
   ]
  },
  {
   "cell_type": "code",
   "execution_count": 3,
   "id": "251726ad",
   "metadata": {
    "ExecuteTime": {
     "end_time": "2024-05-04T07:11:16.660699Z",
     "start_time": "2024-05-04T07:11:16.628102Z"
    }
   },
   "outputs": [],
   "source": [
    "class Logement:\n",
    "    __slots__ = [\n",
    "        'date_enregistrement',\n",
    "        'texte',\n",
    "        'type',\n",
    "        'ville',\n",
    "        'description',\n",
    "        'prix',\n",
    "        'note',\n",
    "        'nb_avis',\n",
    "        'nb_lits',\n",
    "        'nb_chambres',\n",
    "        'est_professionnel',\n",
    "        'est_nouveau'\n",
    "    ]\n",
    "    def __init__(self, ville: str, type: str, description: str,\n",
    "                 nb_lits: int, nb_chambres: int,\n",
    "                 est_professionnel: bool, est_nouveau: bool,\n",
    "                 prix: int, note: float, nb_avis: int,\n",
    "                 texte: str):\n",
    "        self.type = type\n",
    "        self.ville = ville\n",
    "        self.description = description\n",
    "        self.nb_lits = nb_lits\n",
    "        self.nb_chambres = nb_chambres\n",
    "        self.prix = prix\n",
    "        self.est_nouveau = est_nouveau\n",
    "        self.est_professionnel = est_professionnel\n",
    "        self.note = note\n",
    "        self.nb_avis = nb_avis\n",
    "\n",
    "        self.date_enregistrement = datetime.date.today()\n",
    "        self.texte = texte\n",
    "    \n",
    "    @classmethod\n",
    "    def from_text(cls, texte):\n",
    "        texte = texte.strip()\n",
    "        attrs = set(cls.__slots__) - {'texte', 'date_enregistrement'}\n",
    "        kwargs = dict(texte=texte)\n",
    "        for attr in attrs:\n",
    "            kwargs[attr] = eval(f'cls._get_{attr}')(texte)\n",
    "        return cls(**kwargs)\n",
    "    \n",
    "    \n",
    "    @staticmethod\n",
    "    def _get_type(texte: str):\n",
    "        pat = ' (⋅|·) '\n",
    "        return re.split(pat, texte.split('\\n')[0])[0]\n",
    "        #return texte.split('\\n')[0].split(pat)[0]\n",
    "    \n",
    "    @staticmethod\n",
    "    def _get_ville(texte: str):\n",
    "        pat = ' (⋅|·) '\n",
    "        return re.split(pat, texte.split('\\n')[0])[2]\n",
    "        #return texte.split('\\n')[0].split(' ⋅ ')[1]\n",
    "\n",
    "    @staticmethod\n",
    "    def _get_description(text: str):\n",
    "        return text.split('\\n')[1]\n",
    "    \n",
    "    @staticmethod\n",
    "    def _get_nb_lits(texte: str):\n",
    "        return Logement._get_nb_lits_nb_chambres(texte)[0]\n",
    "\n",
    "    @staticmethod\n",
    "    def _get_nb_chambres(texte: str):\n",
    "        return Logement._get_nb_lits_nb_chambres(texte)[1]\n",
    "    \n",
    "    @staticmethod\n",
    "    def _get_nb_lits_nb_chambres(texte: str) -> tuple:\n",
    "        nb_lits, nb_chambres = None, None\n",
    "        pat = r'(?P<nb_lits>\\d) lits?'\n",
    "        if (rgx := re.search(pat, texte.split('\\n')[2])):\n",
    "            nb_lits = int(rgx.group()[0])\n",
    "        pat = r'(?P<nb_chambres>\\d) chambres?'\n",
    "        if (rgx := re.search(pat, texte.split('\\n')[2])):\n",
    "            nb_chambres = int(rgx.group()[0])\n",
    "        return nb_lits, nb_chambres\n",
    "    \n",
    "    @staticmethod\n",
    "    def _get_est_professionnel(texte: str):\n",
    "        return texte.split('\\n')[3] == 'Professionnel'\n",
    "    \n",
    "    @staticmethod\n",
    "    def _get_prix(texte: str):\n",
    "        for ligne in texte.split('\\n'):\n",
    "            if rgx := re.match('(?P<prix>[\\d\\u202f]+) € par nuit', ligne):\n",
    "                return int(rgx.groups()[0].replace('\\u202f', ''))\n",
    "        raise ValueError('Pas de prix trouvé sur :\\n' + texte)\n",
    "    \n",
    "    @staticmethod\n",
    "    def _get_est_nouveau(texte: str):\n",
    "        return texte.split('\\n')[-1] == 'Nouveau'\n",
    "    \n",
    "    @staticmethod\n",
    "    def _get_note(texte: str):\n",
    "        return Logement._get_note_et_nb_avis(texte)[0]\n",
    "\n",
    "    @staticmethod\n",
    "    def _get_nb_avis(texte: str):\n",
    "        return Logement._get_note_et_nb_avis(texte)[1]\n",
    "\n",
    "    @staticmethod\n",
    "    def _get_note_et_nb_avis(texte: str):\n",
    "        note, nb_avis = None, None\n",
    "        pat = r'(?P<note>\\d\\,\\d\\d?) \\((?P<nb_avis>\\d+)\\)'\n",
    "        if rgx := re.search(pat, texte):\n",
    "            note = float(rgx.groupdict()['note'].replace(',', '.'))\n",
    "            nb_avis = int(rgx.groupdict()['nb_avis'])\n",
    "        return note, nb_avis\n",
    "    \n",
    "    def __repr__(self):\n",
    "        rep = f'{self.__class__.__name__}('\n",
    "        for attr in ('type', 'ville', 'prix'):\n",
    "            rep += f'\\n    {attr}={getattr(self, attr)},'\n",
    "        rep = rep[:-1] + '\\n)'\n",
    "        return rep\n",
    "\n",
    "\n",
    "def tronque_à_gauche(texte: str) -> str:\n",
    "    \"\"\"Tronque à gauche le texte avant 'Classement des résultats'\"\"\"\n",
    "    stop = texte.find('Classement des résultats')\n",
    "    return texte[stop + len('Classement des résultats'):].strip()\n",
    "\n",
    "def tronque_à_droite(texte: str) -> str:\n",
    "    \"\"\"Tronque à droite le texte qui dépasse de la numérotation des pages\"\"\"\n",
    "    # stop = texte.find('1\\n2\\n3\\n4')\n",
    "    stop = re.search(r'[\\d…]\\n[\\d…]\\n[\\d…]', texte)\n",
    "    if stop:\n",
    "        return texte[:stop.start()].strip()\n",
    "    stop = re.search(r'Carte Google \\d+ séjours affichés.', texte)\n",
    "    texte = texte[:stop.start()].strip()\n",
    "    stop = re.search(r'Un voyage, deux logements', texte)\n",
    "    if stop:\n",
    "        texte = texte[:stop.start()].strip()\n",
    "        \n",
    "    pat = '\\n(Appartement|Chambre|Hébergement|Tiny house|Appartement en résidence|Villa|Maison de ville) [⋅·] .+€\\n'\n",
    "    stop = re.search(pat, texte)\n",
    "    if stop:\n",
    "        texte = texte[:stop.start()].strip()\n",
    "    return texte"
   ]
  },
  {
   "cell_type": "code",
   "execution_count": 70,
   "id": "f6ca6ca3",
   "metadata": {
    "ExecuteTime": {
     "end_time": "2024-05-04T07:13:50.635575Z",
     "start_time": "2024-05-04T07:13:50.597084Z"
    }
   },
   "outputs": [],
   "source": [
    "page = pyperclip.paste()\n",
    "\n",
    "page = tronque_à_gauche(page)\n",
    "page = tronque_à_droite(page)"
   ]
  },
  {
   "cell_type": "code",
   "execution_count": 71,
   "id": "fb669b4d",
   "metadata": {
    "ExecuteTime": {
     "end_time": "2024-05-04T07:13:50.674894Z",
     "start_time": "2024-05-04T07:13:50.645097Z"
    },
    "scrolled": true
   },
   "outputs": [],
   "source": [
    "pat = \"(Appartement|Chambre|Hébergement|Loft|Tiny house|Appartement en résidence|Villa|Maison de ville|Maison d'hôtes) [⋅·] \"\n",
    "splits = [\n",
    "    match.start()\n",
    "    for match in re.finditer(pat, page)\n",
    "]\n",
    "splits += [len(page)]\n",
    "\n",
    "logements = []\n",
    "for texte in [page[start:stop] for start, stop in zip(splits, splits[1:])]:\n",
    "    logements.append(Logement.from_text(texte))"
   ]
  },
  {
   "cell_type": "code",
   "execution_count": 72,
   "id": "liquid-surface",
   "metadata": {
    "ExecuteTime": {
     "end_time": "2024-05-04T07:13:50.693135Z",
     "start_time": "2024-05-04T07:13:50.681176Z"
    },
    "scrolled": true
   },
   "outputs": [],
   "source": [
    "dico = [{attr: getattr(logement, attr) for attr in Logement.__slots__} for logement in logements]\n",
    "page_df = pd.DataFrame(dico, index=range(len(dico)))"
   ]
  },
  {
   "cell_type": "code",
   "execution_count": 73,
   "id": "5ea26b95",
   "metadata": {
    "ExecuteTime": {
     "end_time": "2024-05-04T07:13:50.718599Z",
     "start_time": "2024-05-04T07:13:50.695831Z"
    }
   },
   "outputs": [
    {
     "data": {
      "text/html": [
       "<div>\n",
       "<style scoped>\n",
       "    .dataframe tbody tr th:only-of-type {\n",
       "        vertical-align: middle;\n",
       "    }\n",
       "\n",
       "    .dataframe tbody tr th {\n",
       "        vertical-align: top;\n",
       "    }\n",
       "\n",
       "    .dataframe thead th {\n",
       "        text-align: right;\n",
       "    }\n",
       "</style>\n",
       "<table border=\"1\" class=\"dataframe\">\n",
       "  <thead>\n",
       "    <tr style=\"text-align: right;\">\n",
       "      <th></th>\n",
       "      <th>date_enregistrement</th>\n",
       "      <th>texte</th>\n",
       "      <th>type</th>\n",
       "      <th>ville</th>\n",
       "      <th>description</th>\n",
       "      <th>prix</th>\n",
       "      <th>note</th>\n",
       "      <th>nb_avis</th>\n",
       "      <th>nb_lits</th>\n",
       "      <th>nb_chambres</th>\n",
       "      <th>est_professionnel</th>\n",
       "      <th>est_nouveau</th>\n",
       "    </tr>\n",
       "  </thead>\n",
       "  <tbody>\n",
       "    <tr>\n",
       "      <th>0</th>\n",
       "      <td>2024-05-04</td>\n",
       "      <td>Appartement ⋅ Bagneux\\nAppart 10min de paris à...</td>\n",
       "      <td>Appartement</td>\n",
       "      <td>Bagneux</td>\n",
       "      <td>Appart 10min de paris à Bagneux</td>\n",
       "      <td>642</td>\n",
       "      <td>NaN</td>\n",
       "      <td>NaN</td>\n",
       "      <td>None</td>\n",
       "      <td>None</td>\n",
       "      <td>False</td>\n",
       "      <td>False</td>\n",
       "    </tr>\n",
       "    <tr>\n",
       "      <th>1</th>\n",
       "      <td>2024-05-04</td>\n",
       "      <td>Appartement ⋅ Bagneux\\n2 pièce au Porte de Par...</td>\n",
       "      <td>Appartement</td>\n",
       "      <td>Bagneux</td>\n",
       "      <td>2 pièce au Porte de Paris 42m2/parking /terrasse</td>\n",
       "      <td>491</td>\n",
       "      <td>4.93</td>\n",
       "      <td>14.0</td>\n",
       "      <td>None</td>\n",
       "      <td>None</td>\n",
       "      <td>False</td>\n",
       "      <td>False</td>\n",
       "    </tr>\n",
       "    <tr>\n",
       "      <th>2</th>\n",
       "      <td>2024-05-04</td>\n",
       "      <td>Hébergement ⋅ Bagneux\\nKXX Complexe privé 15mi...</td>\n",
       "      <td>Hébergement</td>\n",
       "      <td>Bagneux</td>\n",
       "      <td>KXX Complexe privé 15min PARIS ParcExpo 12 cha...</td>\n",
       "      <td>2770</td>\n",
       "      <td>NaN</td>\n",
       "      <td>NaN</td>\n",
       "      <td>None</td>\n",
       "      <td>None</td>\n",
       "      <td>False</td>\n",
       "      <td>False</td>\n",
       "    </tr>\n",
       "  </tbody>\n",
       "</table>\n",
       "</div>"
      ],
      "text/plain": [
       "  date_enregistrement                                              texte  \\\n",
       "0          2024-05-04  Appartement ⋅ Bagneux\\nAppart 10min de paris à...   \n",
       "1          2024-05-04  Appartement ⋅ Bagneux\\n2 pièce au Porte de Par...   \n",
       "2          2024-05-04  Hébergement ⋅ Bagneux\\nKXX Complexe privé 15mi...   \n",
       "\n",
       "          type    ville                                        description  \\\n",
       "0  Appartement  Bagneux                    Appart 10min de paris à Bagneux   \n",
       "1  Appartement  Bagneux   2 pièce au Porte de Paris 42m2/parking /terrasse   \n",
       "2  Hébergement  Bagneux  KXX Complexe privé 15min PARIS ParcExpo 12 cha...   \n",
       "\n",
       "   prix  note  nb_avis nb_lits nb_chambres  est_professionnel  est_nouveau  \n",
       "0   642   NaN      NaN    None        None              False        False  \n",
       "1   491  4.93     14.0    None        None              False        False  \n",
       "2  2770   NaN      NaN    None        None              False        False  "
      ]
     },
     "execution_count": 73,
     "metadata": {},
     "output_type": "execute_result"
    }
   ],
   "source": [
    "#for t in page_df.texte.unique(): print(t, '\\n\\n')\n",
    "page_df.head(3)"
   ]
  },
  {
   "cell_type": "code",
   "execution_count": 74,
   "id": "proprietary-sugar",
   "metadata": {
    "ExecuteTime": {
     "end_time": "2024-05-04T07:13:50.982587Z",
     "start_time": "2024-05-04T07:13:50.724157Z"
    }
   },
   "outputs": [
    {
     "ename": "AssertionError",
     "evalue": "",
     "output_type": "error",
     "traceback": [
      "\u001b[0;31m---------------------------------------------------------------------------\u001b[0m",
      "\u001b[0;31mAssertionError\u001b[0m                            Traceback (most recent call last)",
      "\u001b[0;32m<ipython-input-74-a0c0438cd2de>\u001b[0m in \u001b[0;36m<module>\u001b[0;34m\u001b[0m\n\u001b[0;32m----> 1\u001b[0;31m \u001b[0;32massert\u001b[0m \u001b[0mpage_df\u001b[0m\u001b[0;34m.\u001b[0m\u001b[0mshape\u001b[0m\u001b[0;34m[\u001b[0m\u001b[0;36m0\u001b[0m\u001b[0;34m]\u001b[0m \u001b[0;34m>=\u001b[0m \u001b[0;36m18\u001b[0m\u001b[0;34m\u001b[0m\u001b[0;34m\u001b[0m\u001b[0m\n\u001b[0m\u001b[1;32m      2\u001b[0m \u001b[0;32massert\u001b[0m \u001b[0mpage_df\u001b[0m\u001b[0;34m.\u001b[0m\u001b[0mdrop\u001b[0m\u001b[0;34m(\u001b[0m\u001b[0;34m[\u001b[0m\u001b[0;34m'nb_lits'\u001b[0m\u001b[0;34m,\u001b[0m \u001b[0;34m'nb_chambres'\u001b[0m\u001b[0;34m]\u001b[0m\u001b[0;34m,\u001b[0m \u001b[0maxis\u001b[0m\u001b[0;34m=\u001b[0m\u001b[0;36m1\u001b[0m\u001b[0;34m)\u001b[0m\u001b[0;34m.\u001b[0m\u001b[0mnotnull\u001b[0m\u001b[0;34m(\u001b[0m\u001b[0;34m)\u001b[0m\u001b[0;34m.\u001b[0m\u001b[0msum\u001b[0m\u001b[0;34m(\u001b[0m\u001b[0;34m)\u001b[0m\u001b[0;34m.\u001b[0m\u001b[0mmin\u001b[0m\u001b[0;34m(\u001b[0m\u001b[0;34m)\u001b[0m \u001b[0;34m>\u001b[0m \u001b[0;36m0\u001b[0m\u001b[0;34m\u001b[0m\u001b[0;34m\u001b[0m\u001b[0m\n",
      "\u001b[0;31mAssertionError\u001b[0m: "
     ]
    }
   ],
   "source": [
    "assert page_df.shape[0] >= 18\n",
    "assert page_df.drop(['nb_lits', 'nb_chambres'], axis=1).notnull().sum().min() > 0"
   ]
  },
  {
   "cell_type": "code",
   "execution_count": 75,
   "id": "future-drama",
   "metadata": {
    "ExecuteTime": {
     "end_time": "2024-05-04T07:14:00.046278Z",
     "start_time": "2024-05-04T07:14:00.009386Z"
    },
    "scrolled": true
   },
   "outputs": [
    {
     "name": "stdout",
     "output_type": "stream",
     "text": [
      "(2840, 12)\n"
     ]
    },
    {
     "data": {
      "text/html": [
       "<div>\n",
       "<style scoped>\n",
       "    .dataframe tbody tr th:only-of-type {\n",
       "        vertical-align: middle;\n",
       "    }\n",
       "\n",
       "    .dataframe tbody tr th {\n",
       "        vertical-align: top;\n",
       "    }\n",
       "\n",
       "    .dataframe thead th {\n",
       "        text-align: right;\n",
       "    }\n",
       "</style>\n",
       "<table border=\"1\" class=\"dataframe\">\n",
       "  <thead>\n",
       "    <tr style=\"text-align: right;\">\n",
       "      <th></th>\n",
       "      <th>date_enregistrement</th>\n",
       "      <th>texte</th>\n",
       "      <th>type</th>\n",
       "      <th>ville</th>\n",
       "      <th>description</th>\n",
       "      <th>prix</th>\n",
       "      <th>note</th>\n",
       "      <th>nb_avis</th>\n",
       "      <th>nb_lits</th>\n",
       "      <th>nb_chambres</th>\n",
       "      <th>est_professionnel</th>\n",
       "      <th>est_nouveau</th>\n",
       "    </tr>\n",
       "  </thead>\n",
       "  <tbody>\n",
       "    <tr>\n",
       "      <th>2835</th>\n",
       "      <td>2024-05-04</td>\n",
       "      <td>Hébergement ⋅ Bagneux\\nKXX Complexe privé 15mi...</td>\n",
       "      <td>Hébergement</td>\n",
       "      <td>Bagneux</td>\n",
       "      <td>KXX Complexe privé 15min PARIS ParcExpo 12 cha...</td>\n",
       "      <td>2770</td>\n",
       "      <td>NaN</td>\n",
       "      <td>NaN</td>\n",
       "      <td>None</td>\n",
       "      <td>None</td>\n",
       "      <td>False</td>\n",
       "      <td>False</td>\n",
       "    </tr>\n",
       "    <tr>\n",
       "      <th>2836</th>\n",
       "      <td>2024-05-04</td>\n",
       "      <td>Villa ⋅ L'Haÿ-les-Roses\\nVilla Californie aux ...</td>\n",
       "      <td>Villa</td>\n",
       "      <td>L'Haÿ-les-Roses</td>\n",
       "      <td>Villa Californie aux Portes de Paris</td>\n",
       "      <td>3000</td>\n",
       "      <td>4.86</td>\n",
       "      <td>7.0</td>\n",
       "      <td>None</td>\n",
       "      <td>None</td>\n",
       "      <td>False</td>\n",
       "      <td>False</td>\n",
       "    </tr>\n",
       "    <tr>\n",
       "      <th>2837</th>\n",
       "      <td>2024-05-04</td>\n",
       "      <td>Appartement en résidence ⋅ Bagneux\\nSuperbe ap...</td>\n",
       "      <td>Appartement en résidence</td>\n",
       "      <td>Bagneux</td>\n",
       "      <td>Superbe appartement près du métro 4 proche Paris</td>\n",
       "      <td>1116</td>\n",
       "      <td>4.46</td>\n",
       "      <td>46.0</td>\n",
       "      <td>None</td>\n",
       "      <td>None</td>\n",
       "      <td>False</td>\n",
       "      <td>False</td>\n",
       "    </tr>\n",
       "    <tr>\n",
       "      <th>2838</th>\n",
       "      <td>2024-05-04</td>\n",
       "      <td>Appartement ⋅ Bagneux\\nAppart avec Clim.à 2mn ...</td>\n",
       "      <td>Appartement</td>\n",
       "      <td>Bagneux</td>\n",
       "      <td>Appart avec Clim.à 2mn du Métro Ligne 4</td>\n",
       "      <td>520</td>\n",
       "      <td>NaN</td>\n",
       "      <td>NaN</td>\n",
       "      <td>None</td>\n",
       "      <td>None</td>\n",
       "      <td>False</td>\n",
       "      <td>False</td>\n",
       "    </tr>\n",
       "    <tr>\n",
       "      <th>2839</th>\n",
       "      <td>2024-05-04</td>\n",
       "      <td>Loft ⋅ Bagneux\\nParis à 3 min !\\nArena Paris S...</td>\n",
       "      <td>Loft</td>\n",
       "      <td>Bagneux</td>\n",
       "      <td>Paris à 3 min !</td>\n",
       "      <td>799</td>\n",
       "      <td>NaN</td>\n",
       "      <td>NaN</td>\n",
       "      <td>None</td>\n",
       "      <td>None</td>\n",
       "      <td>False</td>\n",
       "      <td>False</td>\n",
       "    </tr>\n",
       "  </tbody>\n",
       "</table>\n",
       "</div>"
      ],
      "text/plain": [
       "     date_enregistrement                                              texte  \\\n",
       "2835          2024-05-04  Hébergement ⋅ Bagneux\\nKXX Complexe privé 15mi...   \n",
       "2836          2024-05-04  Villa ⋅ L'Haÿ-les-Roses\\nVilla Californie aux ...   \n",
       "2837          2024-05-04  Appartement en résidence ⋅ Bagneux\\nSuperbe ap...   \n",
       "2838          2024-05-04  Appartement ⋅ Bagneux\\nAppart avec Clim.à 2mn ...   \n",
       "2839          2024-05-04  Loft ⋅ Bagneux\\nParis à 3 min !\\nArena Paris S...   \n",
       "\n",
       "                          type            ville  \\\n",
       "2835               Hébergement          Bagneux   \n",
       "2836                     Villa  L'Haÿ-les-Roses   \n",
       "2837  Appartement en résidence          Bagneux   \n",
       "2838               Appartement          Bagneux   \n",
       "2839                      Loft          Bagneux   \n",
       "\n",
       "                                            description  prix  note  nb_avis  \\\n",
       "2835  KXX Complexe privé 15min PARIS ParcExpo 12 cha...  2770   NaN      NaN   \n",
       "2836               Villa Californie aux Portes de Paris  3000  4.86      7.0   \n",
       "2837   Superbe appartement près du métro 4 proche Paris  1116  4.46     46.0   \n",
       "2838            Appart avec Clim.à 2mn du Métro Ligne 4   520   NaN      NaN   \n",
       "2839                                    Paris à 3 min !   799   NaN      NaN   \n",
       "\n",
       "     nb_lits nb_chambres  est_professionnel  est_nouveau  \n",
       "2835    None        None              False        False  \n",
       "2836    None        None              False        False  \n",
       "2837    None        None              False        False  \n",
       "2838    None        None              False        False  \n",
       "2839    None        None              False        False  "
      ]
     },
     "execution_count": 75,
     "metadata": {},
     "output_type": "execute_result"
    }
   ],
   "source": [
    "# On ajoute à tous les logements la page en cours de scrapping : \n",
    "tous_les_logements = pd.concat([tous_les_logements, page_df], axis=0, ignore_index=True)\n",
    "print(tous_les_logements.shape)\n",
    "tous_les_logements.tail()"
   ]
  },
  {
   "cell_type": "code",
   "execution_count": null,
   "id": "chicken-handling",
   "metadata": {},
   "outputs": [],
   "source": []
  },
  {
   "cell_type": "code",
   "execution_count": null,
   "id": "italic-permission",
   "metadata": {},
   "outputs": [],
   "source": []
  },
  {
   "cell_type": "code",
   "execution_count": null,
   "id": "needed-brief",
   "metadata": {},
   "outputs": [],
   "source": []
  },
  {
   "cell_type": "code",
   "execution_count": null,
   "id": "corporate-semester",
   "metadata": {},
   "outputs": [],
   "source": []
  },
  {
   "cell_type": "code",
   "execution_count": null,
   "id": "rocky-techno",
   "metadata": {},
   "outputs": [],
   "source": []
  },
  {
   "cell_type": "markdown",
   "id": "cathedral-isolation",
   "metadata": {},
   "source": [
    "Quand on a fini d'itérer sur les pages, on dump :"
   ]
  },
  {
   "cell_type": "code",
   "execution_count": 76,
   "id": "christian-alignment",
   "metadata": {
    "ExecuteTime": {
     "end_time": "2024-05-04T07:14:02.173672Z",
     "start_time": "2024-05-04T07:14:02.142922Z"
    }
   },
   "outputs": [],
   "source": [
    "pickle.dump(tous_les_logements.drop_duplicates().fillna(np.nan), open('tous_les_logements.p', 'wb'))"
   ]
  }
 ],
 "metadata": {
  "kernelspec": {
   "display_name": "pierrou_env",
   "language": "python",
   "name": "pierrou_env"
  },
  "language_info": {
   "codemirror_mode": {
    "name": "ipython",
    "version": 3
   },
   "file_extension": ".py",
   "mimetype": "text/x-python",
   "name": "python",
   "nbconvert_exporter": "python",
   "pygments_lexer": "ipython3",
   "version": "3.8.5"
  }
 },
 "nbformat": 4,
 "nbformat_minor": 5
}
