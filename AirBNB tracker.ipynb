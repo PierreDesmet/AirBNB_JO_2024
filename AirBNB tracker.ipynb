{
 "cells": [
  {
   "cell_type": "markdown",
   "id": "42821897",
   "metadata": {},
   "source": [
    "# AirBNB tracker"
   ]
  },
  {
   "cell_type": "code",
   "execution_count": 1,
   "id": "b4c663f2",
   "metadata": {
    "ExecuteTime": {
     "end_time": "2024-03-17T08:03:39.507108Z",
     "start_time": "2024-03-17T08:03:37.371967Z"
    }
   },
   "outputs": [],
   "source": [
    "import numpy as np\n",
    "import datetime\n",
    "import pandas as pd\n",
    "import pyperclip\n",
    "import pickle\n",
    "import re"
   ]
  },
  {
   "cell_type": "code",
   "execution_count": 2,
   "id": "broad-avenue",
   "metadata": {
    "ExecuteTime": {
     "end_time": "2024-03-17T08:03:39.595854Z",
     "start_time": "2024-03-17T08:03:39.519216Z"
    },
    "scrolled": true
   },
   "outputs": [
    {
     "name": "stdout",
     "output_type": "stream",
     "text": [
      "(1481, 12)\n"
     ]
    },
    {
     "data": {
      "text/html": [
       "<div>\n",
       "<style scoped>\n",
       "    .dataframe tbody tr th:only-of-type {\n",
       "        vertical-align: middle;\n",
       "    }\n",
       "\n",
       "    .dataframe tbody tr th {\n",
       "        vertical-align: top;\n",
       "    }\n",
       "\n",
       "    .dataframe thead th {\n",
       "        text-align: right;\n",
       "    }\n",
       "</style>\n",
       "<table border=\"1\" class=\"dataframe\">\n",
       "  <thead>\n",
       "    <tr style=\"text-align: right;\">\n",
       "      <th></th>\n",
       "      <th>date_enregistrement</th>\n",
       "      <th>texte</th>\n",
       "      <th>type</th>\n",
       "      <th>ville</th>\n",
       "      <th>description</th>\n",
       "      <th>prix</th>\n",
       "      <th>note</th>\n",
       "      <th>nb_avis</th>\n",
       "      <th>nb_lits</th>\n",
       "      <th>nb_chambres</th>\n",
       "      <th>est_professionnel</th>\n",
       "      <th>est_nouveau</th>\n",
       "    </tr>\n",
       "  </thead>\n",
       "  <tbody>\n",
       "    <tr>\n",
       "      <th>1485</th>\n",
       "      <td>2024-03-10</td>\n",
       "      <td>Appartement ⋅ Bagneux\\nNEW : - 20%, 8/6/4 voya...</td>\n",
       "      <td>Appartement</td>\n",
       "      <td>Bagneux</td>\n",
       "      <td>NEW : - 20%, 8/6/4 voyageurs</td>\n",
       "      <td>2168</td>\n",
       "      <td>NaN</td>\n",
       "      <td>NaN</td>\n",
       "      <td>NaN</td>\n",
       "      <td>NaN</td>\n",
       "      <td>False</td>\n",
       "      <td>False</td>\n",
       "    </tr>\n",
       "    <tr>\n",
       "      <th>1486</th>\n",
       "      <td>2024-03-10</td>\n",
       "      <td>Hébergement ⋅ Bourg-la-Reine\\nBelle maison pro...</td>\n",
       "      <td>Hébergement</td>\n",
       "      <td>Bourg-la-Reine</td>\n",
       "      <td>Belle maison proche Paris</td>\n",
       "      <td>878</td>\n",
       "      <td>NaN</td>\n",
       "      <td>NaN</td>\n",
       "      <td>NaN</td>\n",
       "      <td>NaN</td>\n",
       "      <td>False</td>\n",
       "      <td>True</td>\n",
       "    </tr>\n",
       "  </tbody>\n",
       "</table>\n",
       "</div>"
      ],
      "text/plain": [
       "     date_enregistrement                                              texte  \\\n",
       "1485          2024-03-10  Appartement ⋅ Bagneux\\nNEW : - 20%, 8/6/4 voya...   \n",
       "1486          2024-03-10  Hébergement ⋅ Bourg-la-Reine\\nBelle maison pro...   \n",
       "\n",
       "             type           ville                   description  prix  note  \\\n",
       "1485  Appartement         Bagneux  NEW : - 20%, 8/6/4 voyageurs  2168   NaN   \n",
       "1486  Hébergement  Bourg-la-Reine     Belle maison proche Paris   878   NaN   \n",
       "\n",
       "      nb_avis  nb_lits  nb_chambres  est_professionnel  est_nouveau  \n",
       "1485      NaN      NaN          NaN              False        False  \n",
       "1486      NaN      NaN          NaN              False         True  "
      ]
     },
     "execution_count": 2,
     "metadata": {},
     "output_type": "execute_result"
    }
   ],
   "source": [
    "tous_les_logements = pickle.load(open('tous_les_logements.p', 'rb'))\n",
    "print(tous_les_logements.shape)\n",
    "tous_les_logements.tail(2)"
   ]
  },
  {
   "cell_type": "code",
   "execution_count": 3,
   "id": "251726ad",
   "metadata": {
    "ExecuteTime": {
     "end_time": "2024-03-17T08:03:39.657465Z",
     "start_time": "2024-03-17T08:03:39.604683Z"
    }
   },
   "outputs": [],
   "source": [
    "class Logement:\n",
    "    __slots__ = [\n",
    "        'date_enregistrement',\n",
    "        'texte',\n",
    "        'type',\n",
    "        'ville',\n",
    "        'description',\n",
    "        'prix',\n",
    "        'note',\n",
    "        'nb_avis',\n",
    "        'nb_lits',\n",
    "        'nb_chambres',\n",
    "        'est_professionnel',\n",
    "        'est_nouveau'\n",
    "    ]\n",
    "    def __init__(self, ville: str, type: str, description: str,\n",
    "                 nb_lits: int, nb_chambres: int,\n",
    "                 est_professionnel: bool, est_nouveau: bool,\n",
    "                 prix: int, note: float, nb_avis: int,\n",
    "                 texte: str):\n",
    "        self.type = type\n",
    "        self.ville = ville\n",
    "        self.description = description\n",
    "        self.nb_lits = nb_lits\n",
    "        self.nb_chambres = nb_chambres\n",
    "        self.prix = prix\n",
    "        self.est_nouveau = est_nouveau\n",
    "        self.est_professionnel = est_professionnel\n",
    "        self.note = note\n",
    "        self.nb_avis = nb_avis\n",
    "\n",
    "        self.date_enregistrement = datetime.date.today()\n",
    "        self.texte = texte\n",
    "    \n",
    "    @classmethod\n",
    "    def from_text(cls, texte):\n",
    "        texte = texte.strip()\n",
    "        attrs = set(cls.__slots__) - {'texte', 'date_enregistrement'}\n",
    "        kwargs = dict(texte=texte)\n",
    "        for attr in attrs:\n",
    "            kwargs[attr] = eval(f'cls._get_{attr}')(texte)\n",
    "        return cls(**kwargs)\n",
    "    \n",
    "    \n",
    "    @staticmethod\n",
    "    def _get_type(texte: str):\n",
    "        pat = ' (⋅|·) '\n",
    "        return re.split(pat, texte.split('\\n')[0])[0]\n",
    "        #return texte.split('\\n')[0].split(pat)[0]\n",
    "    \n",
    "    @staticmethod\n",
    "    def _get_ville(texte: str):\n",
    "        pat = ' (⋅|·) '\n",
    "        return re.split(pat, texte.split('\\n')[0])[2]\n",
    "        #return texte.split('\\n')[0].split(' ⋅ ')[1]\n",
    "\n",
    "    @staticmethod\n",
    "    def _get_description(text: str):\n",
    "        return text.split('\\n')[1]\n",
    "    \n",
    "    @staticmethod\n",
    "    def _get_nb_lits(texte: str):\n",
    "        return Logement._get_nb_lits_nb_chambres(texte)[0]\n",
    "\n",
    "    @staticmethod\n",
    "    def _get_nb_chambres(texte: str):\n",
    "        return Logement._get_nb_lits_nb_chambres(texte)[1]\n",
    "    \n",
    "    @staticmethod\n",
    "    def _get_nb_lits_nb_chambres(texte: str) -> tuple:\n",
    "        nb_lits, nb_chambres = None, None\n",
    "        pat = r'(?P<nb_lits>\\d) lits?'\n",
    "        if (rgx := re.search(pat, texte.split('\\n')[2])):\n",
    "            nb_lits = int(rgx.group()[0])\n",
    "        pat = r'(?P<nb_chambres>\\d) chambres?'\n",
    "        if (rgx := re.search(pat, texte.split('\\n')[2])):\n",
    "            nb_chambres = int(rgx.group()[0])\n",
    "        return nb_lits, nb_chambres\n",
    "    \n",
    "    @staticmethod\n",
    "    def _get_est_professionnel(texte: str):\n",
    "        return texte.split('\\n')[3] == 'Professionnel'\n",
    "    \n",
    "    @staticmethod\n",
    "    def _get_prix(texte: str):\n",
    "        for ligne in texte.split('\\n'):\n",
    "            if rgx := re.match('(?P<prix>[\\d\\u202f]+) € par nuit', ligne):\n",
    "                return int(rgx.groups()[0].replace('\\u202f', ''))\n",
    "        raise ValueError('Pas de prix trouvé sur :\\n' + texte)\n",
    "    \n",
    "    @staticmethod\n",
    "    def _get_est_nouveau(texte: str):\n",
    "        return texte.split('\\n')[-1] == 'Nouveau'\n",
    "    \n",
    "    @staticmethod\n",
    "    def _get_note(texte: str):\n",
    "        return Logement._get_note_et_nb_avis(texte)[0]\n",
    "\n",
    "    @staticmethod\n",
    "    def _get_nb_avis(texte: str):\n",
    "        return Logement._get_note_et_nb_avis(texte)[1]\n",
    "\n",
    "    @staticmethod\n",
    "    def _get_note_et_nb_avis(texte: str):\n",
    "        note, nb_avis = None, None\n",
    "        pat = r'(?P<note>\\d\\,\\d\\d?) \\((?P<nb_avis>\\d+)\\)'\n",
    "        if rgx := re.search(pat, texte):\n",
    "            note = float(rgx.groupdict()['note'].replace(',', '.'))\n",
    "            nb_avis = int(rgx.groupdict()['nb_avis'])\n",
    "        return note, nb_avis\n",
    "    \n",
    "    def __repr__(self):\n",
    "        rep = f'{self.__class__.__name__}('\n",
    "        for attr in ('type', 'ville', 'prix'):\n",
    "            rep += f'\\n    {attr}={getattr(self, attr)},'\n",
    "        rep = rep[:-1] + '\\n)'\n",
    "        return rep\n",
    "\n",
    "\n",
    "def tronque_à_gauche(texte: str) -> str:\n",
    "    \"\"\"Tronque à gauche le texte avant 'Classement des résultats'\"\"\"\n",
    "    stop = texte.find('Classement des résultats')\n",
    "    return texte[stop + len('Classement des résultats'):].strip()\n",
    "\n",
    "def tronque_à_droite(texte: str) -> str:\n",
    "    \"\"\"Tronque à droite le texte qui dépasse de la numérotation des pages\"\"\"\n",
    "    # stop = texte.find('1\\n2\\n3\\n4')\n",
    "    stop = re.search(r'[\\d…]\\n[\\d…]\\n[\\d…]', texte)\n",
    "    if stop:\n",
    "        return texte[:stop.start()].strip()\n",
    "    stop = re.search(r'Carte Google \\d+ séjours affichés.', texte)\n",
    "    texte = texte[:stop.start()].strip()\n",
    "    stop = re.search(r'Un voyage, deux logements', texte)\n",
    "    if stop:\n",
    "        texte = texte[:stop.start()].strip()\n",
    "        \n",
    "    pat = '\\n(Appartement|Chambre|Hébergement|Tiny house|Appartement en résidence|Villa|Maison de ville) [⋅·] .+€\\n'\n",
    "    stop = re.search(pat, texte)\n",
    "    if stop:\n",
    "        texte = texte[:stop.start()].strip()\n",
    "    return texte"
   ]
  },
  {
   "cell_type": "code",
   "execution_count": 58,
   "id": "f6ca6ca3",
   "metadata": {
    "ExecuteTime": {
     "end_time": "2024-03-17T08:30:46.703104Z",
     "start_time": "2024-03-17T08:30:46.653471Z"
    }
   },
   "outputs": [],
   "source": [
    "page = pyperclip.paste()\n",
    "\n",
    "page = tronque_à_gauche(page)\n",
    "page = tronque_à_droite(page)"
   ]
  },
  {
   "cell_type": "code",
   "execution_count": 59,
   "id": "fb669b4d",
   "metadata": {
    "ExecuteTime": {
     "end_time": "2024-03-17T08:30:47.003660Z",
     "start_time": "2024-03-17T08:30:46.993267Z"
    },
    "scrolled": true
   },
   "outputs": [],
   "source": [
    "pat = \"(Appartement|Chambre|Hébergement|Loft|Tiny house|Appartement en résidence|Villa|Maison de ville|Maison d'hôtes) [⋅·] \"\n",
    "splits = [\n",
    "    match.start()\n",
    "    for match in re.finditer(pat, page)\n",
    "]\n",
    "splits += [len(page)]\n",
    "\n",
    "logements = []\n",
    "for texte in [page[start:stop] for start, stop in zip(splits, splits[1:])]:\n",
    "    logements.append(Logement.from_text(texte))"
   ]
  },
  {
   "cell_type": "code",
   "execution_count": 60,
   "id": "liquid-surface",
   "metadata": {
    "ExecuteTime": {
     "end_time": "2024-03-17T08:30:47.343358Z",
     "start_time": "2024-03-17T08:30:47.337394Z"
    },
    "scrolled": true
   },
   "outputs": [],
   "source": [
    "dico = [{attr: getattr(logement, attr) for attr in Logement.__slots__} for logement in logements]\n",
    "page_df = pd.DataFrame(dico, index=range(len(dico)))"
   ]
  },
  {
   "cell_type": "code",
   "execution_count": 61,
   "id": "5ea26b95",
   "metadata": {
    "ExecuteTime": {
     "end_time": "2024-03-17T08:30:48.032145Z",
     "start_time": "2024-03-17T08:30:48.017643Z"
    }
   },
   "outputs": [
    {
     "data": {
      "text/html": [
       "<div>\n",
       "<style scoped>\n",
       "    .dataframe tbody tr th:only-of-type {\n",
       "        vertical-align: middle;\n",
       "    }\n",
       "\n",
       "    .dataframe tbody tr th {\n",
       "        vertical-align: top;\n",
       "    }\n",
       "\n",
       "    .dataframe thead th {\n",
       "        text-align: right;\n",
       "    }\n",
       "</style>\n",
       "<table border=\"1\" class=\"dataframe\">\n",
       "  <thead>\n",
       "    <tr style=\"text-align: right;\">\n",
       "      <th></th>\n",
       "      <th>date_enregistrement</th>\n",
       "      <th>texte</th>\n",
       "      <th>type</th>\n",
       "      <th>ville</th>\n",
       "      <th>description</th>\n",
       "      <th>prix</th>\n",
       "      <th>note</th>\n",
       "      <th>nb_avis</th>\n",
       "      <th>nb_lits</th>\n",
       "      <th>nb_chambres</th>\n",
       "      <th>est_professionnel</th>\n",
       "      <th>est_nouveau</th>\n",
       "    </tr>\n",
       "  </thead>\n",
       "  <tbody>\n",
       "    <tr>\n",
       "      <th>0</th>\n",
       "      <td>2024-03-17</td>\n",
       "      <td>Appartement ⋅ Cachan\\nAppartement spacieux cen...</td>\n",
       "      <td>Appartement</td>\n",
       "      <td>Cachan</td>\n",
       "      <td>Appartement spacieux centre Cachan, proche Paris</td>\n",
       "      <td>256</td>\n",
       "      <td>None</td>\n",
       "      <td>None</td>\n",
       "      <td>None</td>\n",
       "      <td>None</td>\n",
       "      <td>False</td>\n",
       "      <td>False</td>\n",
       "    </tr>\n",
       "    <tr>\n",
       "      <th>1</th>\n",
       "      <td>2024-03-17</td>\n",
       "      <td>Appartement ⋅ Cachan\\nAppartement avec jardin ...</td>\n",
       "      <td>Appartement</td>\n",
       "      <td>Cachan</td>\n",
       "      <td>Appartement avec jardin et parking</td>\n",
       "      <td>201</td>\n",
       "      <td>None</td>\n",
       "      <td>None</td>\n",
       "      <td>None</td>\n",
       "      <td>None</td>\n",
       "      <td>False</td>\n",
       "      <td>True</td>\n",
       "    </tr>\n",
       "    <tr>\n",
       "      <th>2</th>\n",
       "      <td>2024-03-17</td>\n",
       "      <td>Appartement ⋅ Cachan\\n2P a 10 min à pied du RE...</td>\n",
       "      <td>Appartement</td>\n",
       "      <td>Cachan</td>\n",
       "      <td>2P a 10 min à pied du RER B</td>\n",
       "      <td>245</td>\n",
       "      <td>None</td>\n",
       "      <td>None</td>\n",
       "      <td>None</td>\n",
       "      <td>None</td>\n",
       "      <td>False</td>\n",
       "      <td>False</td>\n",
       "    </tr>\n",
       "  </tbody>\n",
       "</table>\n",
       "</div>"
      ],
      "text/plain": [
       "  date_enregistrement                                              texte  \\\n",
       "0          2024-03-17  Appartement ⋅ Cachan\\nAppartement spacieux cen...   \n",
       "1          2024-03-17  Appartement ⋅ Cachan\\nAppartement avec jardin ...   \n",
       "2          2024-03-17  Appartement ⋅ Cachan\\n2P a 10 min à pied du RE...   \n",
       "\n",
       "          type   ville                                       description  \\\n",
       "0  Appartement  Cachan  Appartement spacieux centre Cachan, proche Paris   \n",
       "1  Appartement  Cachan                Appartement avec jardin et parking   \n",
       "2  Appartement  Cachan                       2P a 10 min à pied du RER B   \n",
       "\n",
       "   prix  note nb_avis nb_lits nb_chambres  est_professionnel  est_nouveau  \n",
       "0   256  None    None    None        None              False        False  \n",
       "1   201  None    None    None        None              False         True  \n",
       "2   245  None    None    None        None              False        False  "
      ]
     },
     "execution_count": 61,
     "metadata": {},
     "output_type": "execute_result"
    }
   ],
   "source": [
    "#for t in page_df.texte.unique(): print(t, '\\n\\n')\n",
    "page_df.head(3)"
   ]
  },
  {
   "cell_type": "code",
   "execution_count": 57,
   "id": "proprietary-sugar",
   "metadata": {
    "ExecuteTime": {
     "end_time": "2024-03-17T08:30:19.969618Z",
     "start_time": "2024-03-17T08:30:19.791408Z"
    }
   },
   "outputs": [
    {
     "ename": "AssertionError",
     "evalue": "",
     "output_type": "error",
     "traceback": [
      "\u001b[0;31m---------------------------------------------------------------------------\u001b[0m",
      "\u001b[0;31mAssertionError\u001b[0m                            Traceback (most recent call last)",
      "\u001b[0;32m<ipython-input-57-4d2fedf7eba5>\u001b[0m in \u001b[0;36m<module>\u001b[0;34m\u001b[0m\n\u001b[1;32m      1\u001b[0m \u001b[0;31m#assert page_df.shape[0] == 18\u001b[0m\u001b[0;34m\u001b[0m\u001b[0;34m\u001b[0m\u001b[0;34m\u001b[0m\u001b[0m\n\u001b[0;32m----> 2\u001b[0;31m \u001b[0;32massert\u001b[0m \u001b[0mpage_df\u001b[0m\u001b[0;34m.\u001b[0m\u001b[0mdrop\u001b[0m\u001b[0;34m(\u001b[0m\u001b[0;34m[\u001b[0m\u001b[0;34m'nb_lits'\u001b[0m\u001b[0;34m,\u001b[0m \u001b[0;34m'nb_chambres'\u001b[0m\u001b[0;34m]\u001b[0m\u001b[0;34m,\u001b[0m \u001b[0maxis\u001b[0m\u001b[0;34m=\u001b[0m\u001b[0;36m1\u001b[0m\u001b[0;34m)\u001b[0m\u001b[0;34m.\u001b[0m\u001b[0mnotnull\u001b[0m\u001b[0;34m(\u001b[0m\u001b[0;34m)\u001b[0m\u001b[0;34m.\u001b[0m\u001b[0msum\u001b[0m\u001b[0;34m(\u001b[0m\u001b[0;34m)\u001b[0m\u001b[0;34m.\u001b[0m\u001b[0mmin\u001b[0m\u001b[0;34m(\u001b[0m\u001b[0;34m)\u001b[0m \u001b[0;34m>\u001b[0m \u001b[0;36m0\u001b[0m\u001b[0;34m\u001b[0m\u001b[0;34m\u001b[0m\u001b[0m\n\u001b[0m",
      "\u001b[0;31mAssertionError\u001b[0m: "
     ]
    }
   ],
   "source": [
    "assert page_df.shape[0] == 18\n",
    "assert page_df.drop(['nb_lits', 'nb_chambres'], axis=1).notnull().sum().min() > 0"
   ]
  },
  {
   "cell_type": "code",
   "execution_count": 68,
   "id": "future-drama",
   "metadata": {
    "ExecuteTime": {
     "end_time": "2024-03-17T08:55:34.690312Z",
     "start_time": "2024-03-17T08:55:34.657108Z"
    },
    "scrolled": true
   },
   "outputs": [
    {
     "name": "stdout",
     "output_type": "stream",
     "text": [
      "(1651, 12)\n"
     ]
    },
    {
     "data": {
      "text/html": [
       "<div>\n",
       "<style scoped>\n",
       "    .dataframe tbody tr th:only-of-type {\n",
       "        vertical-align: middle;\n",
       "    }\n",
       "\n",
       "    .dataframe tbody tr th {\n",
       "        vertical-align: top;\n",
       "    }\n",
       "\n",
       "    .dataframe thead th {\n",
       "        text-align: right;\n",
       "    }\n",
       "</style>\n",
       "<table border=\"1\" class=\"dataframe\">\n",
       "  <thead>\n",
       "    <tr style=\"text-align: right;\">\n",
       "      <th></th>\n",
       "      <th>date_enregistrement</th>\n",
       "      <th>texte</th>\n",
       "      <th>type</th>\n",
       "      <th>ville</th>\n",
       "      <th>description</th>\n",
       "      <th>prix</th>\n",
       "      <th>note</th>\n",
       "      <th>nb_avis</th>\n",
       "      <th>nb_lits</th>\n",
       "      <th>nb_chambres</th>\n",
       "      <th>est_professionnel</th>\n",
       "      <th>est_nouveau</th>\n",
       "    </tr>\n",
       "  </thead>\n",
       "  <tbody>\n",
       "    <tr>\n",
       "      <th>1646</th>\n",
       "      <td>2024-03-17</td>\n",
       "      <td>Appartement ⋅ Cachan\\nAppartement très calme.\\...</td>\n",
       "      <td>Appartement</td>\n",
       "      <td>Cachan</td>\n",
       "      <td>Appartement très calme.</td>\n",
       "      <td>350</td>\n",
       "      <td>None</td>\n",
       "      <td>None</td>\n",
       "      <td>None</td>\n",
       "      <td>None</td>\n",
       "      <td>False</td>\n",
       "      <td>False</td>\n",
       "    </tr>\n",
       "    <tr>\n",
       "      <th>1647</th>\n",
       "      <td>2024-03-17</td>\n",
       "      <td>Appartement ⋅ Cachan\\nAppartement lumineux\\nAr...</td>\n",
       "      <td>Appartement</td>\n",
       "      <td>Cachan</td>\n",
       "      <td>Appartement lumineux</td>\n",
       "      <td>477</td>\n",
       "      <td>None</td>\n",
       "      <td>None</td>\n",
       "      <td>None</td>\n",
       "      <td>None</td>\n",
       "      <td>False</td>\n",
       "      <td>False</td>\n",
       "    </tr>\n",
       "    <tr>\n",
       "      <th>1648</th>\n",
       "      <td>2024-03-17</td>\n",
       "      <td>Appartement ⋅ Cachan\\nAppartement La Maison Bl...</td>\n",
       "      <td>Appartement</td>\n",
       "      <td>Cachan</td>\n",
       "      <td>Appartement La Maison Blanche</td>\n",
       "      <td>200</td>\n",
       "      <td>None</td>\n",
       "      <td>None</td>\n",
       "      <td>None</td>\n",
       "      <td>None</td>\n",
       "      <td>False</td>\n",
       "      <td>False</td>\n",
       "    </tr>\n",
       "    <tr>\n",
       "      <th>1649</th>\n",
       "      <td>2024-03-17</td>\n",
       "      <td>Appartement ⋅ Cachan\\nAppartement près de Pari...</td>\n",
       "      <td>Appartement</td>\n",
       "      <td>Cachan</td>\n",
       "      <td>Appartement près de Paris</td>\n",
       "      <td>696</td>\n",
       "      <td>None</td>\n",
       "      <td>None</td>\n",
       "      <td>None</td>\n",
       "      <td>None</td>\n",
       "      <td>False</td>\n",
       "      <td>True</td>\n",
       "    </tr>\n",
       "    <tr>\n",
       "      <th>1650</th>\n",
       "      <td>2024-03-17</td>\n",
       "      <td>Hébergement ⋅ Cachan\\nBelle maison d’architect...</td>\n",
       "      <td>Hébergement</td>\n",
       "      <td>Cachan</td>\n",
       "      <td>Belle maison d’architecte</td>\n",
       "      <td>2157</td>\n",
       "      <td>None</td>\n",
       "      <td>None</td>\n",
       "      <td>None</td>\n",
       "      <td>None</td>\n",
       "      <td>False</td>\n",
       "      <td>False</td>\n",
       "    </tr>\n",
       "  </tbody>\n",
       "</table>\n",
       "</div>"
      ],
      "text/plain": [
       "     date_enregistrement                                              texte  \\\n",
       "1646          2024-03-17  Appartement ⋅ Cachan\\nAppartement très calme.\\...   \n",
       "1647          2024-03-17  Appartement ⋅ Cachan\\nAppartement lumineux\\nAr...   \n",
       "1648          2024-03-17  Appartement ⋅ Cachan\\nAppartement La Maison Bl...   \n",
       "1649          2024-03-17  Appartement ⋅ Cachan\\nAppartement près de Pari...   \n",
       "1650          2024-03-17  Hébergement ⋅ Cachan\\nBelle maison d’architect...   \n",
       "\n",
       "             type   ville                    description  prix  note nb_avis  \\\n",
       "1646  Appartement  Cachan        Appartement très calme.   350  None    None   \n",
       "1647  Appartement  Cachan           Appartement lumineux   477  None    None   \n",
       "1648  Appartement  Cachan  Appartement La Maison Blanche   200  None    None   \n",
       "1649  Appartement  Cachan      Appartement près de Paris   696  None    None   \n",
       "1650  Hébergement  Cachan      Belle maison d’architecte  2157  None    None   \n",
       "\n",
       "     nb_lits nb_chambres  est_professionnel  est_nouveau  \n",
       "1646    None        None              False        False  \n",
       "1647    None        None              False        False  \n",
       "1648    None        None              False        False  \n",
       "1649    None        None              False         True  \n",
       "1650    None        None              False        False  "
      ]
     },
     "execution_count": 68,
     "metadata": {},
     "output_type": "execute_result"
    }
   ],
   "source": [
    "# On ajoute à tous les logements la page en cours de scrapping : \n",
    "tous_les_logements = pd.concat([tous_les_logements, page_df], axis=0, ignore_index=True)\n",
    "print(tous_les_logements.shape)\n",
    "tous_les_logements.tail()"
   ]
  },
  {
   "cell_type": "code",
   "execution_count": null,
   "id": "chicken-handling",
   "metadata": {},
   "outputs": [],
   "source": []
  },
  {
   "cell_type": "code",
   "execution_count": null,
   "id": "italic-permission",
   "metadata": {},
   "outputs": [],
   "source": []
  },
  {
   "cell_type": "code",
   "execution_count": null,
   "id": "needed-brief",
   "metadata": {},
   "outputs": [],
   "source": []
  },
  {
   "cell_type": "code",
   "execution_count": null,
   "id": "corporate-semester",
   "metadata": {},
   "outputs": [],
   "source": []
  },
  {
   "cell_type": "code",
   "execution_count": null,
   "id": "rocky-techno",
   "metadata": {},
   "outputs": [],
   "source": []
  },
  {
   "cell_type": "markdown",
   "id": "cathedral-isolation",
   "metadata": {},
   "source": [
    "Quand on a fini d'itérer sur les pages, on dump :"
   ]
  },
  {
   "cell_type": "code",
   "execution_count": 69,
   "id": "christian-alignment",
   "metadata": {
    "ExecuteTime": {
     "end_time": "2024-03-17T08:55:39.037226Z",
     "start_time": "2024-03-17T08:55:39.009171Z"
    }
   },
   "outputs": [],
   "source": [
    "pickle.dump(tous_les_logements.drop_duplicates().fillna(np.nan), open('tous_les_logements.p', 'wb'))"
   ]
  }
 ],
 "metadata": {
  "kernelspec": {
   "display_name": "pierrou_env",
   "language": "python",
   "name": "pierrou_env"
  },
  "language_info": {
   "codemirror_mode": {
    "name": "ipython",
    "version": 3
   },
   "file_extension": ".py",
   "mimetype": "text/x-python",
   "name": "python",
   "nbconvert_exporter": "python",
   "pygments_lexer": "ipython3",
   "version": "3.8.5"
  }
 },
 "nbformat": 4,
 "nbformat_minor": 5
}
