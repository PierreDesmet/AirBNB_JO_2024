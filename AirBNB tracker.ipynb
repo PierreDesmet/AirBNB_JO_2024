{
 "cells": [
  {
   "cell_type": "markdown",
   "id": "7809f38d",
   "metadata": {},
   "source": [
    "# AirBNB tracker"
   ]
  },
  {
   "cell_type": "code",
   "execution_count": 9,
   "id": "a7aeca62",
   "metadata": {
    "ExecuteTime": {
     "end_time": "2023-12-10T07:10:53.149455Z",
     "start_time": "2023-12-10T07:10:53.145234Z"
    }
   },
   "outputs": [],
   "source": [
    "import pyperclip\n",
    "import re"
   ]
  },
  {
   "cell_type": "code",
   "execution_count": 98,
   "id": "088579ea",
   "metadata": {
    "ExecuteTime": {
     "end_time": "2023-12-10T07:55:24.369039Z",
     "start_time": "2023-12-10T07:55:24.327186Z"
    }
   },
   "outputs": [],
   "source": [
    "temp = pyperclip.paste()"
   ]
  },
  {
   "cell_type": "code",
   "execution_count": 100,
   "id": "9f015471",
   "metadata": {
    "ExecuteTime": {
     "end_time": "2023-12-10T07:55:34.594825Z",
     "start_time": "2023-12-10T07:55:34.588767Z"
    }
   },
   "outputs": [],
   "source": [
    "def tronque_à_gauche(texte: str) -> str:\n",
    "    \"\"\"Tronque à gauche le texte avant 'Classement des résultats'\"\"\"\n",
    "    stop = texte.find('Classement des résultats')\n",
    "    return texte[stop + len('Classement des résultats'):].strip()\n",
    "\n",
    "def tronque_à_droite(texte: str) -> str:\n",
    "    \"\"\"Tronque à droite le texte qui dépasse de la numérotation des pages\"\"\"\n",
    "    stop = texte.find('1\\n2\\n3\\n4')\n",
    "    return texte[:stop].strip()"
   ]
  },
  {
   "cell_type": "code",
   "execution_count": 101,
   "id": "13d55ace",
   "metadata": {
    "ExecuteTime": {
     "end_time": "2023-12-10T07:55:42.017590Z",
     "start_time": "2023-12-10T07:55:42.014418Z"
    }
   },
   "outputs": [],
   "source": [
    "temp = tronque_à_gauche(temp)\n",
    "temp = tronque_à_droite(temp)"
   ]
  },
  {
   "cell_type": "code",
   "execution_count": 102,
   "id": "8320cc66",
   "metadata": {
    "ExecuteTime": {
     "end_time": "2023-12-10T07:55:42.818243Z",
     "start_time": "2023-12-10T07:55:42.812884Z"
    }
   },
   "outputs": [
    {
     "data": {
      "text/plain": [
       "10"
      ]
     },
     "execution_count": 102,
     "metadata": {},
     "output_type": "execute_result"
    }
   ],
   "source": [
    "len(_)"
   ]
  },
  {
   "cell_type": "code",
   "execution_count": 218,
   "id": "fb5aa562",
   "metadata": {
    "ExecuteTime": {
     "end_time": "2023-12-10T08:38:57.241431Z",
     "start_time": "2023-12-10T08:38:57.228223Z"
    }
   },
   "outputs": [],
   "source": [
    "class Logement:\n",
    "    def __init__(self, ville: str, type: str, description: str,\n",
    "                 nb_lits: int, nb_chambres: int,\n",
    "                 est_professionnel: bool, prix: int, \n",
    "                 est_nouveau: bool, est_superhôte: bool):\n",
    "        self.type = type\n",
    "        self.ville = ville\n",
    "        self.description = description\n",
    "        self.nb_lits = nb_lits\n",
    "        self.nb_chambres = nb_chambres\n",
    "        self.prix = prix\n",
    "        self.est_nouveau = est_nouveau\n",
    "        self.est_superhôte = est_superhôte\n",
    "        self.est_professionnel = est_professionnel\n",
    "    \n",
    "    @classmethod\n",
    "    def from_text(cls, texte):\n",
    "        attrs = (\n",
    "            'type',\n",
    "            'ville',\n",
    "            'description',\n",
    "            'nb_lits',\n",
    "            'nb_chambres',\n",
    "            'est_professionnel',\n",
    "            'prix',\n",
    "            'est_nouveau',\n",
    "            'est_superhôte'\n",
    "        )\n",
    "        kwargs = dict()\n",
    "        for attr in attrs:\n",
    "            kwargs[attr] = eval(f'cls._get_{attr}')(texte)\n",
    "        return cls(**kwargs)\n",
    "    \n",
    "    \n",
    "    @staticmethod\n",
    "    def _get_type(texte: str):\n",
    "        return texte.split('\\n')[0].split(' ⋅ ')[0]\n",
    "    \n",
    "    @staticmethod\n",
    "    def _get_ville(texte: str):\n",
    "        return texte.split('\\n')[0].split(' ⋅ ')[1]\n",
    "\n",
    "    @staticmethod\n",
    "    def _get_description(text: str):\n",
    "        return text.split('\\n')[1]\n",
    "    \n",
    "    @staticmethod\n",
    "    def _get_nb_lits(texte: str):\n",
    "        return Logement._get_nb_lits_nb_chambres(texte)[0]\n",
    "\n",
    "    @staticmethod\n",
    "    def _get_nb_chambres(texte: str):\n",
    "        return Logement._get_nb_lits_nb_chambres(texte)[1]\n",
    "    \n",
    "    @staticmethod\n",
    "    def _get_nb_lits_nb_chambres(texte: str):\n",
    "        pat = r'(?P<nb_lits>\\d) lits?.+(?P<nb_chambres>\\d) chambre'\n",
    "        nb_lits, nb_chambres = re.search(pat, texte.split('\\n')[2]).groups()\n",
    "        return int(nb_lits), int(nb_chambres)\n",
    "    \n",
    "    @staticmethod\n",
    "    def _get_est_professionnel(texte: str):\n",
    "        return texte.split('\\n')[3] == 'Professionnel'\n",
    "    \n",
    "    @staticmethod\n",
    "    def _get_prix(texte: str):\n",
    "        for ligne in texte.split('\\n'):\n",
    "            if rgx := re.match('(?P<prix>[\\d\\u202f]+) € par nuit', ligne):\n",
    "                return int(rgx.groups()[0].replace('\\u202f', ''))\n",
    "        raise ValueError('Pas de prix trouvé sur :\\n' + texte)\n",
    "    \n",
    "    @staticmethod\n",
    "    def _get_est_superhôte(texte: str):\n",
    "        for ligne in texte.split('\\n'):\n",
    "            if ligne == 'Superhôte':\n",
    "                return True\n",
    "            return False\n",
    "    \n",
    "    @staticmethod\n",
    "    def _get_est_nouveau(texte: str):\n",
    "        return texte.split('\\n')[-1] == 'Nouveau'\n",
    "    \n",
    "    def __repr__(self):\n",
    "        rep = f'{self.__class__.__name__}('\n",
    "        for attr in ('type', 'ville', 'prix'):\n",
    "            rep += f'\\n    {attr}={getattr(self, attr)},'\n",
    "        rep = rep[:-1] + '\\n)'\n",
    "        return rep"
   ]
  },
  {
   "cell_type": "code",
   "execution_count": 219,
   "id": "a404c9f5",
   "metadata": {
    "ExecuteTime": {
     "end_time": "2023-12-10T08:38:58.174026Z",
     "start_time": "2023-12-10T08:38:58.166610Z"
    },
    "scrolled": true
   },
   "outputs": [
    {
     "data": {
      "text/plain": [
       "[0,\n",
       " 222,\n",
       " 436,\n",
       " 682,\n",
       " 923,\n",
       " 1125,\n",
       " 1321,\n",
       " 1524,\n",
       " 1786,\n",
       " 2015,\n",
       " 2195,\n",
       " 2432,\n",
       " 2673,\n",
       " 2936,\n",
       " 3155,\n",
       " 3364,\n",
       " 3617,\n",
       " 3865,\n",
       " 4081]"
      ]
     },
     "execution_count": 219,
     "metadata": {},
     "output_type": "execute_result"
    }
   ],
   "source": [
    "splits = [match.start() for match in re.finditer('(Appartement|Hébergement|Tiny house) ⋅ ', temp)]\n",
    "splits += [len(temp)]\n",
    "splits"
   ]
  },
  {
   "cell_type": "code",
   "execution_count": 220,
   "id": "eb95cc16",
   "metadata": {
    "ExecuteTime": {
     "end_time": "2023-12-10T08:38:58.777796Z",
     "start_time": "2023-12-10T08:38:58.771526Z"
    }
   },
   "outputs": [],
   "source": [
    "logements = []\n",
    "for texte in [temp[start:stop] for start, stop in zip(splits, splits[1:])]:\n",
    "    logements.append(Logement.from_text(texte))"
   ]
  },
  {
   "cell_type": "code",
   "execution_count": 221,
   "id": "214f44bb",
   "metadata": {
    "ExecuteTime": {
     "end_time": "2023-12-10T08:38:59.487092Z",
     "start_time": "2023-12-10T08:38:59.480753Z"
    },
    "scrolled": true
   },
   "outputs": [
    {
     "data": {
      "text/plain": [
       "[Logement(\n",
       "     type=Appartement,\n",
       "     ville=Cachan,\n",
       "     prix=278\n",
       " ),\n",
       " Logement(\n",
       "     type=Appartement,\n",
       "     ville=Cachan,\n",
       "     prix=315\n",
       " ),\n",
       " Logement(\n",
       "     type=Appartement,\n",
       "     ville=Cachan,\n",
       "     prix=316\n",
       " ),\n",
       " Logement(\n",
       "     type=Hébergement,\n",
       "     ville=Cachan,\n",
       "     prix=280\n",
       " ),\n",
       " Logement(\n",
       "     type=Appartement,\n",
       "     ville=Cachan,\n",
       "     prix=1190\n",
       " ),\n",
       " Logement(\n",
       "     type=Appartement,\n",
       "     ville=Cachan,\n",
       "     prix=180\n",
       " ),\n",
       " Logement(\n",
       "     type=Appartement,\n",
       "     ville=Cachan,\n",
       "     prix=269\n",
       " ),\n",
       " Logement(\n",
       "     type=Appartement,\n",
       "     ville=Cachan,\n",
       "     prix=445\n",
       " ),\n",
       " Logement(\n",
       "     type=Appartement,\n",
       "     ville=Bagneux,\n",
       "     prix=813\n",
       " ),\n",
       " Logement(\n",
       "     type=Appartement,\n",
       "     ville=L'Haÿ-les-Roses,\n",
       "     prix=234\n",
       " ),\n",
       " Logement(\n",
       "     type=Appartement,\n",
       "     ville=Cachan,\n",
       "     prix=389\n",
       " ),\n",
       " Logement(\n",
       "     type=Appartement,\n",
       "     ville=Cachan,\n",
       "     prix=473\n",
       " ),\n",
       " Logement(\n",
       "     type=Appartement,\n",
       "     ville=L'Haÿ-les-Roses,\n",
       "     prix=369\n",
       " ),\n",
       " Logement(\n",
       "     type=Appartement,\n",
       "     ville=Cachan,\n",
       "     prix=592\n",
       " ),\n",
       " Logement(\n",
       "     type=Appartement,\n",
       "     ville=Cachan,\n",
       "     prix=670\n",
       " ),\n",
       " Logement(\n",
       "     type=Hébergement,\n",
       "     ville=Cachan,\n",
       "     prix=1290\n",
       " ),\n",
       " Logement(\n",
       "     type=Appartement,\n",
       "     ville=Bourg-la-Reine,\n",
       "     prix=295\n",
       " ),\n",
       " Logement(\n",
       "     type=Tiny house,\n",
       "     ville=L'Haÿ-les-Roses,\n",
       "     prix=240\n",
       " )]"
      ]
     },
     "execution_count": 221,
     "metadata": {},
     "output_type": "execute_result"
    }
   ],
   "source": [
    "logements"
   ]
  },
  {
   "cell_type": "code",
   "execution_count": 226,
   "id": "d26419d8",
   "metadata": {
    "ExecuteTime": {
     "end_time": "2023-12-10T08:39:20.407937Z",
     "start_time": "2023-12-10T08:39:20.395858Z"
    }
   },
   "outputs": [
    {
     "data": {
      "text/plain": [
       "3"
      ]
     },
     "execution_count": 226,
     "metadata": {},
     "output_type": "execute_result"
    }
   ],
   "source": [
    "logements[-1].nb_lits"
   ]
  }
 ],
 "metadata": {
  "kernelspec": {
   "display_name": "pierrou_env",
   "language": "python",
   "name": "pierrou_env"
  },
  "language_info": {
   "codemirror_mode": {
    "name": "ipython",
    "version": 3
   },
   "file_extension": ".py",
   "mimetype": "text/x-python",
   "name": "python",
   "nbconvert_exporter": "python",
   "pygments_lexer": "ipython3",
   "version": "3.8.5"
  }
 },
 "nbformat": 4,
 "nbformat_minor": 5
}
