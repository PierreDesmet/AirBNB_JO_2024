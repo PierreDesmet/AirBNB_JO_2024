{
 "cells": [
  {
   "cell_type": "markdown",
   "id": "42821897",
   "metadata": {},
   "source": [
    "# AirBNB tracker"
   ]
  },
  {
   "cell_type": "code",
   "execution_count": 1,
   "id": "b4c663f2",
   "metadata": {
    "ExecuteTime": {
     "end_time": "2024-04-14T17:32:34.477199Z",
     "start_time": "2024-04-14T17:32:32.196365Z"
    }
   },
   "outputs": [],
   "source": [
    "import numpy as np\n",
    "import datetime\n",
    "import pandas as pd\n",
    "import pyperclip\n",
    "import pickle\n",
    "import re"
   ]
  },
  {
   "cell_type": "code",
   "execution_count": 2,
   "id": "broad-avenue",
   "metadata": {
    "ExecuteTime": {
     "end_time": "2024-04-14T17:32:34.560193Z",
     "start_time": "2024-04-14T17:32:34.479386Z"
    },
    "scrolled": true
   },
   "outputs": [
    {
     "name": "stdout",
     "output_type": "stream",
     "text": [
      "(2111, 12)\n"
     ]
    },
    {
     "data": {
      "text/html": [
       "<div>\n",
       "<style scoped>\n",
       "    .dataframe tbody tr th:only-of-type {\n",
       "        vertical-align: middle;\n",
       "    }\n",
       "\n",
       "    .dataframe tbody tr th {\n",
       "        vertical-align: top;\n",
       "    }\n",
       "\n",
       "    .dataframe thead th {\n",
       "        text-align: right;\n",
       "    }\n",
       "</style>\n",
       "<table border=\"1\" class=\"dataframe\">\n",
       "  <thead>\n",
       "    <tr style=\"text-align: right;\">\n",
       "      <th></th>\n",
       "      <th>date_enregistrement</th>\n",
       "      <th>texte</th>\n",
       "      <th>type</th>\n",
       "      <th>ville</th>\n",
       "      <th>description</th>\n",
       "      <th>prix</th>\n",
       "      <th>note</th>\n",
       "      <th>nb_avis</th>\n",
       "      <th>nb_lits</th>\n",
       "      <th>nb_chambres</th>\n",
       "      <th>est_professionnel</th>\n",
       "      <th>est_nouveau</th>\n",
       "    </tr>\n",
       "  </thead>\n",
       "  <tbody>\n",
       "    <tr>\n",
       "      <th>2127</th>\n",
       "      <td>2024-04-06</td>\n",
       "      <td>Hébergement ⋅ Bagneux\\nKXX Complexe privé 15mi...</td>\n",
       "      <td>Hébergement</td>\n",
       "      <td>Bagneux</td>\n",
       "      <td>KXX Complexe privé 15min PARIS ParcExpo 12 cha...</td>\n",
       "      <td>4570</td>\n",
       "      <td>NaN</td>\n",
       "      <td>NaN</td>\n",
       "      <td>NaN</td>\n",
       "      <td>NaN</td>\n",
       "      <td>False</td>\n",
       "      <td>False</td>\n",
       "    </tr>\n",
       "    <tr>\n",
       "      <th>2128</th>\n",
       "      <td>2024-04-06</td>\n",
       "      <td>Loft ⋅ Bagneux\\nParis à 3 min !\\nArena Paris S...</td>\n",
       "      <td>Loft</td>\n",
       "      <td>Bagneux</td>\n",
       "      <td>Paris à 3 min !</td>\n",
       "      <td>799</td>\n",
       "      <td>NaN</td>\n",
       "      <td>NaN</td>\n",
       "      <td>NaN</td>\n",
       "      <td>NaN</td>\n",
       "      <td>False</td>\n",
       "      <td>False</td>\n",
       "    </tr>\n",
       "  </tbody>\n",
       "</table>\n",
       "</div>"
      ],
      "text/plain": [
       "     date_enregistrement                                              texte  \\\n",
       "2127          2024-04-06  Hébergement ⋅ Bagneux\\nKXX Complexe privé 15mi...   \n",
       "2128          2024-04-06  Loft ⋅ Bagneux\\nParis à 3 min !\\nArena Paris S...   \n",
       "\n",
       "             type    ville                                        description  \\\n",
       "2127  Hébergement  Bagneux  KXX Complexe privé 15min PARIS ParcExpo 12 cha...   \n",
       "2128         Loft  Bagneux                                    Paris à 3 min !   \n",
       "\n",
       "      prix  note  nb_avis  nb_lits  nb_chambres  est_professionnel  \\\n",
       "2127  4570   NaN      NaN      NaN          NaN              False   \n",
       "2128   799   NaN      NaN      NaN          NaN              False   \n",
       "\n",
       "      est_nouveau  \n",
       "2127        False  \n",
       "2128        False  "
      ]
     },
     "execution_count": 2,
     "metadata": {},
     "output_type": "execute_result"
    }
   ],
   "source": [
    "tous_les_logements = pickle.load(open('tous_les_logements.p', 'rb'))\n",
    "print(tous_les_logements.shape)\n",
    "tous_les_logements.tail(2)"
   ]
  },
  {
   "cell_type": "code",
   "execution_count": 3,
   "id": "251726ad",
   "metadata": {
    "ExecuteTime": {
     "end_time": "2024-04-14T17:32:36.250845Z",
     "start_time": "2024-04-14T17:32:36.198759Z"
    }
   },
   "outputs": [],
   "source": [
    "class Logement:\n",
    "    __slots__ = [\n",
    "        'date_enregistrement',\n",
    "        'texte',\n",
    "        'type',\n",
    "        'ville',\n",
    "        'description',\n",
    "        'prix',\n",
    "        'note',\n",
    "        'nb_avis',\n",
    "        'nb_lits',\n",
    "        'nb_chambres',\n",
    "        'est_professionnel',\n",
    "        'est_nouveau'\n",
    "    ]\n",
    "    def __init__(self, ville: str, type: str, description: str,\n",
    "                 nb_lits: int, nb_chambres: int,\n",
    "                 est_professionnel: bool, est_nouveau: bool,\n",
    "                 prix: int, note: float, nb_avis: int,\n",
    "                 texte: str):\n",
    "        self.type = type\n",
    "        self.ville = ville\n",
    "        self.description = description\n",
    "        self.nb_lits = nb_lits\n",
    "        self.nb_chambres = nb_chambres\n",
    "        self.prix = prix\n",
    "        self.est_nouveau = est_nouveau\n",
    "        self.est_professionnel = est_professionnel\n",
    "        self.note = note\n",
    "        self.nb_avis = nb_avis\n",
    "\n",
    "        self.date_enregistrement = datetime.date.today()\n",
    "        self.texte = texte\n",
    "    \n",
    "    @classmethod\n",
    "    def from_text(cls, texte):\n",
    "        texte = texte.strip()\n",
    "        attrs = set(cls.__slots__) - {'texte', 'date_enregistrement'}\n",
    "        kwargs = dict(texte=texte)\n",
    "        for attr in attrs:\n",
    "            kwargs[attr] = eval(f'cls._get_{attr}')(texte)\n",
    "        return cls(**kwargs)\n",
    "    \n",
    "    \n",
    "    @staticmethod\n",
    "    def _get_type(texte: str):\n",
    "        pat = ' (⋅|·) '\n",
    "        return re.split(pat, texte.split('\\n')[0])[0]\n",
    "        #return texte.split('\\n')[0].split(pat)[0]\n",
    "    \n",
    "    @staticmethod\n",
    "    def _get_ville(texte: str):\n",
    "        pat = ' (⋅|·) '\n",
    "        return re.split(pat, texte.split('\\n')[0])[2]\n",
    "        #return texte.split('\\n')[0].split(' ⋅ ')[1]\n",
    "\n",
    "    @staticmethod\n",
    "    def _get_description(text: str):\n",
    "        return text.split('\\n')[1]\n",
    "    \n",
    "    @staticmethod\n",
    "    def _get_nb_lits(texte: str):\n",
    "        return Logement._get_nb_lits_nb_chambres(texte)[0]\n",
    "\n",
    "    @staticmethod\n",
    "    def _get_nb_chambres(texte: str):\n",
    "        return Logement._get_nb_lits_nb_chambres(texte)[1]\n",
    "    \n",
    "    @staticmethod\n",
    "    def _get_nb_lits_nb_chambres(texte: str) -> tuple:\n",
    "        nb_lits, nb_chambres = None, None\n",
    "        pat = r'(?P<nb_lits>\\d) lits?'\n",
    "        if (rgx := re.search(pat, texte.split('\\n')[2])):\n",
    "            nb_lits = int(rgx.group()[0])\n",
    "        pat = r'(?P<nb_chambres>\\d) chambres?'\n",
    "        if (rgx := re.search(pat, texte.split('\\n')[2])):\n",
    "            nb_chambres = int(rgx.group()[0])\n",
    "        return nb_lits, nb_chambres\n",
    "    \n",
    "    @staticmethod\n",
    "    def _get_est_professionnel(texte: str):\n",
    "        return texte.split('\\n')[3] == 'Professionnel'\n",
    "    \n",
    "    @staticmethod\n",
    "    def _get_prix(texte: str):\n",
    "        for ligne in texte.split('\\n'):\n",
    "            if rgx := re.match('(?P<prix>[\\d\\u202f]+) € par nuit', ligne):\n",
    "                return int(rgx.groups()[0].replace('\\u202f', ''))\n",
    "        raise ValueError('Pas de prix trouvé sur :\\n' + texte)\n",
    "    \n",
    "    @staticmethod\n",
    "    def _get_est_nouveau(texte: str):\n",
    "        return texte.split('\\n')[-1] == 'Nouveau'\n",
    "    \n",
    "    @staticmethod\n",
    "    def _get_note(texte: str):\n",
    "        return Logement._get_note_et_nb_avis(texte)[0]\n",
    "\n",
    "    @staticmethod\n",
    "    def _get_nb_avis(texte: str):\n",
    "        return Logement._get_note_et_nb_avis(texte)[1]\n",
    "\n",
    "    @staticmethod\n",
    "    def _get_note_et_nb_avis(texte: str):\n",
    "        note, nb_avis = None, None\n",
    "        pat = r'(?P<note>\\d\\,\\d\\d?) \\((?P<nb_avis>\\d+)\\)'\n",
    "        if rgx := re.search(pat, texte):\n",
    "            note = float(rgx.groupdict()['note'].replace(',', '.'))\n",
    "            nb_avis = int(rgx.groupdict()['nb_avis'])\n",
    "        return note, nb_avis\n",
    "    \n",
    "    def __repr__(self):\n",
    "        rep = f'{self.__class__.__name__}('\n",
    "        for attr in ('type', 'ville', 'prix'):\n",
    "            rep += f'\\n    {attr}={getattr(self, attr)},'\n",
    "        rep = rep[:-1] + '\\n)'\n",
    "        return rep\n",
    "\n",
    "\n",
    "def tronque_à_gauche(texte: str) -> str:\n",
    "    \"\"\"Tronque à gauche le texte avant 'Classement des résultats'\"\"\"\n",
    "    stop = texte.find('Classement des résultats')\n",
    "    return texte[stop + len('Classement des résultats'):].strip()\n",
    "\n",
    "def tronque_à_droite(texte: str) -> str:\n",
    "    \"\"\"Tronque à droite le texte qui dépasse de la numérotation des pages\"\"\"\n",
    "    # stop = texte.find('1\\n2\\n3\\n4')\n",
    "    stop = re.search(r'[\\d…]\\n[\\d…]\\n[\\d…]', texte)\n",
    "    if stop:\n",
    "        return texte[:stop.start()].strip()\n",
    "    stop = re.search(r'Carte Google \\d+ séjours affichés.', texte)\n",
    "    texte = texte[:stop.start()].strip()\n",
    "    stop = re.search(r'Un voyage, deux logements', texte)\n",
    "    if stop:\n",
    "        texte = texte[:stop.start()].strip()\n",
    "        \n",
    "    pat = '\\n(Appartement|Chambre|Hébergement|Tiny house|Appartement en résidence|Villa|Maison de ville) [⋅·] .+€\\n'\n",
    "    stop = re.search(pat, texte)\n",
    "    if stop:\n",
    "        texte = texte[:stop.start()].strip()\n",
    "    return texte"
   ]
  },
  {
   "cell_type": "code",
   "execution_count": 82,
   "id": "f6ca6ca3",
   "metadata": {
    "ExecuteTime": {
     "end_time": "2024-04-14T17:35:47.388761Z",
     "start_time": "2024-04-14T17:35:47.339627Z"
    }
   },
   "outputs": [],
   "source": [
    "page = pyperclip.paste()\n",
    "\n",
    "page = tronque_à_gauche(page)\n",
    "page = tronque_à_droite(page)"
   ]
  },
  {
   "cell_type": "code",
   "execution_count": 83,
   "id": "fb669b4d",
   "metadata": {
    "ExecuteTime": {
     "end_time": "2024-04-14T17:35:47.672608Z",
     "start_time": "2024-04-14T17:35:47.666261Z"
    },
    "scrolled": true
   },
   "outputs": [],
   "source": [
    "pat = \"(Appartement|Chambre|Hébergement|Loft|Tiny house|Appartement en résidence|Villa|Maison de ville|Maison d'hôtes) [⋅·] \"\n",
    "splits = [\n",
    "    match.start()\n",
    "    for match in re.finditer(pat, page)\n",
    "]\n",
    "splits += [len(page)]\n",
    "\n",
    "logements = []\n",
    "for texte in [page[start:stop] for start, stop in zip(splits, splits[1:])]:\n",
    "    logements.append(Logement.from_text(texte))"
   ]
  },
  {
   "cell_type": "code",
   "execution_count": 84,
   "id": "liquid-surface",
   "metadata": {
    "ExecuteTime": {
     "end_time": "2024-04-14T17:35:48.092812Z",
     "start_time": "2024-04-14T17:35:48.086289Z"
    },
    "scrolled": true
   },
   "outputs": [],
   "source": [
    "dico = [{attr: getattr(logement, attr) for attr in Logement.__slots__} for logement in logements]\n",
    "page_df = pd.DataFrame(dico, index=range(len(dico)))"
   ]
  },
  {
   "cell_type": "code",
   "execution_count": 85,
   "id": "5ea26b95",
   "metadata": {
    "ExecuteTime": {
     "end_time": "2024-04-14T17:35:48.956887Z",
     "start_time": "2024-04-14T17:35:48.944016Z"
    }
   },
   "outputs": [
    {
     "data": {
      "text/html": [
       "<div>\n",
       "<style scoped>\n",
       "    .dataframe tbody tr th:only-of-type {\n",
       "        vertical-align: middle;\n",
       "    }\n",
       "\n",
       "    .dataframe tbody tr th {\n",
       "        vertical-align: top;\n",
       "    }\n",
       "\n",
       "    .dataframe thead th {\n",
       "        text-align: right;\n",
       "    }\n",
       "</style>\n",
       "<table border=\"1\" class=\"dataframe\">\n",
       "  <thead>\n",
       "    <tr style=\"text-align: right;\">\n",
       "      <th></th>\n",
       "      <th>date_enregistrement</th>\n",
       "      <th>texte</th>\n",
       "      <th>type</th>\n",
       "      <th>ville</th>\n",
       "      <th>description</th>\n",
       "      <th>prix</th>\n",
       "      <th>note</th>\n",
       "      <th>nb_avis</th>\n",
       "      <th>nb_lits</th>\n",
       "      <th>nb_chambres</th>\n",
       "      <th>est_professionnel</th>\n",
       "      <th>est_nouveau</th>\n",
       "    </tr>\n",
       "  </thead>\n",
       "  <tbody>\n",
       "    <tr>\n",
       "      <th>0</th>\n",
       "      <td>2024-04-14</td>\n",
       "      <td>Hébergement ⋅ Gentilly\\nMaison à 9 minutes de ...</td>\n",
       "      <td>Hébergement</td>\n",
       "      <td>Gentilly</td>\n",
       "      <td>Maison à 9 minutes de la seine</td>\n",
       "      <td>1797</td>\n",
       "      <td>None</td>\n",
       "      <td>None</td>\n",
       "      <td>None</td>\n",
       "      <td>None</td>\n",
       "      <td>False</td>\n",
       "      <td>False</td>\n",
       "    </tr>\n",
       "    <tr>\n",
       "      <th>1</th>\n",
       "      <td>2024-04-14</td>\n",
       "      <td>Loft ⋅ Bagneux\\nParis à 3 min !\\nArena Paris S...</td>\n",
       "      <td>Loft</td>\n",
       "      <td>Bagneux</td>\n",
       "      <td>Paris à 3 min !</td>\n",
       "      <td>799</td>\n",
       "      <td>None</td>\n",
       "      <td>None</td>\n",
       "      <td>None</td>\n",
       "      <td>None</td>\n",
       "      <td>False</td>\n",
       "      <td>False</td>\n",
       "    </tr>\n",
       "  </tbody>\n",
       "</table>\n",
       "</div>"
      ],
      "text/plain": [
       "  date_enregistrement                                              texte  \\\n",
       "0          2024-04-14  Hébergement ⋅ Gentilly\\nMaison à 9 minutes de ...   \n",
       "1          2024-04-14  Loft ⋅ Bagneux\\nParis à 3 min !\\nArena Paris S...   \n",
       "\n",
       "          type     ville                     description  prix  note nb_avis  \\\n",
       "0  Hébergement  Gentilly  Maison à 9 minutes de la seine  1797  None    None   \n",
       "1         Loft   Bagneux                 Paris à 3 min !   799  None    None   \n",
       "\n",
       "  nb_lits nb_chambres  est_professionnel  est_nouveau  \n",
       "0    None        None              False        False  \n",
       "1    None        None              False        False  "
      ]
     },
     "execution_count": 85,
     "metadata": {},
     "output_type": "execute_result"
    }
   ],
   "source": [
    "#for t in page_df.texte.unique(): print(t, '\\n\\n')\n",
    "page_df.head(3)"
   ]
  },
  {
   "cell_type": "code",
   "execution_count": 80,
   "id": "proprietary-sugar",
   "metadata": {
    "ExecuteTime": {
     "end_time": "2024-04-14T17:35:34.749670Z",
     "start_time": "2024-04-14T17:35:34.743161Z"
    }
   },
   "outputs": [],
   "source": [
    "assert page_df.shape[0] >= 18\n",
    "assert page_df.drop(['nb_lits', 'nb_chambres'], axis=1).notnull().sum().min() > 0"
   ]
  },
  {
   "cell_type": "code",
   "execution_count": 86,
   "id": "future-drama",
   "metadata": {
    "ExecuteTime": {
     "end_time": "2024-04-14T17:35:51.751418Z",
     "start_time": "2024-04-14T17:35:51.729600Z"
    },
    "scrolled": true
   },
   "outputs": [
    {
     "name": "stdout",
     "output_type": "stream",
     "text": [
      "(2353, 12)\n"
     ]
    },
    {
     "data": {
      "text/html": [
       "<div>\n",
       "<style scoped>\n",
       "    .dataframe tbody tr th:only-of-type {\n",
       "        vertical-align: middle;\n",
       "    }\n",
       "\n",
       "    .dataframe tbody tr th {\n",
       "        vertical-align: top;\n",
       "    }\n",
       "\n",
       "    .dataframe thead th {\n",
       "        text-align: right;\n",
       "    }\n",
       "</style>\n",
       "<table border=\"1\" class=\"dataframe\">\n",
       "  <thead>\n",
       "    <tr style=\"text-align: right;\">\n",
       "      <th></th>\n",
       "      <th>date_enregistrement</th>\n",
       "      <th>texte</th>\n",
       "      <th>type</th>\n",
       "      <th>ville</th>\n",
       "      <th>description</th>\n",
       "      <th>prix</th>\n",
       "      <th>note</th>\n",
       "      <th>nb_avis</th>\n",
       "      <th>nb_lits</th>\n",
       "      <th>nb_chambres</th>\n",
       "      <th>est_professionnel</th>\n",
       "      <th>est_nouveau</th>\n",
       "    </tr>\n",
       "  </thead>\n",
       "  <tbody>\n",
       "    <tr>\n",
       "      <th>2348</th>\n",
       "      <td>2024-04-14</td>\n",
       "      <td>Appartement ⋅ Bagneux\\nB1 Appart 2022 - 10 min...</td>\n",
       "      <td>Appartement</td>\n",
       "      <td>Bagneux</td>\n",
       "      <td>B1 Appart 2022 - 10 min PARIS/EXPO - 5 chambre...</td>\n",
       "      <td>1144</td>\n",
       "      <td>4.85</td>\n",
       "      <td>61.0</td>\n",
       "      <td>None</td>\n",
       "      <td>None</td>\n",
       "      <td>False</td>\n",
       "      <td>False</td>\n",
       "    </tr>\n",
       "    <tr>\n",
       "      <th>2349</th>\n",
       "      <td>2024-04-14</td>\n",
       "      <td>Maison de ville ⋅ Bagneux\\nMaison 10 min PARIS...</td>\n",
       "      <td>Maison de ville</td>\n",
       "      <td>Bagneux</td>\n",
       "      <td>Maison 10 min PARIS EXPO - 5 chambres/8 lits</td>\n",
       "      <td>1864</td>\n",
       "      <td>4.83</td>\n",
       "      <td>30.0</td>\n",
       "      <td>None</td>\n",
       "      <td>None</td>\n",
       "      <td>False</td>\n",
       "      <td>False</td>\n",
       "    </tr>\n",
       "    <tr>\n",
       "      <th>2350</th>\n",
       "      <td>2024-04-14</td>\n",
       "      <td>Hébergement ⋅ Bagneux\\nKXX Complexe privé 15mi...</td>\n",
       "      <td>Hébergement</td>\n",
       "      <td>Bagneux</td>\n",
       "      <td>KXX Complexe privé 15min PARIS ParcExpo 12 cha...</td>\n",
       "      <td>4570</td>\n",
       "      <td>NaN</td>\n",
       "      <td>NaN</td>\n",
       "      <td>None</td>\n",
       "      <td>None</td>\n",
       "      <td>False</td>\n",
       "      <td>False</td>\n",
       "    </tr>\n",
       "    <tr>\n",
       "      <th>2351</th>\n",
       "      <td>2024-04-14</td>\n",
       "      <td>Hébergement ⋅ Gentilly\\nMaison à 9 minutes de ...</td>\n",
       "      <td>Hébergement</td>\n",
       "      <td>Gentilly</td>\n",
       "      <td>Maison à 9 minutes de la seine</td>\n",
       "      <td>1797</td>\n",
       "      <td>None</td>\n",
       "      <td>None</td>\n",
       "      <td>None</td>\n",
       "      <td>None</td>\n",
       "      <td>False</td>\n",
       "      <td>False</td>\n",
       "    </tr>\n",
       "    <tr>\n",
       "      <th>2352</th>\n",
       "      <td>2024-04-14</td>\n",
       "      <td>Loft ⋅ Bagneux\\nParis à 3 min !\\nArena Paris S...</td>\n",
       "      <td>Loft</td>\n",
       "      <td>Bagneux</td>\n",
       "      <td>Paris à 3 min !</td>\n",
       "      <td>799</td>\n",
       "      <td>None</td>\n",
       "      <td>None</td>\n",
       "      <td>None</td>\n",
       "      <td>None</td>\n",
       "      <td>False</td>\n",
       "      <td>False</td>\n",
       "    </tr>\n",
       "  </tbody>\n",
       "</table>\n",
       "</div>"
      ],
      "text/plain": [
       "     date_enregistrement                                              texte  \\\n",
       "2348          2024-04-14  Appartement ⋅ Bagneux\\nB1 Appart 2022 - 10 min...   \n",
       "2349          2024-04-14  Maison de ville ⋅ Bagneux\\nMaison 10 min PARIS...   \n",
       "2350          2024-04-14  Hébergement ⋅ Bagneux\\nKXX Complexe privé 15mi...   \n",
       "2351          2024-04-14  Hébergement ⋅ Gentilly\\nMaison à 9 minutes de ...   \n",
       "2352          2024-04-14  Loft ⋅ Bagneux\\nParis à 3 min !\\nArena Paris S...   \n",
       "\n",
       "                 type     ville  \\\n",
       "2348      Appartement   Bagneux   \n",
       "2349  Maison de ville   Bagneux   \n",
       "2350      Hébergement   Bagneux   \n",
       "2351      Hébergement  Gentilly   \n",
       "2352             Loft   Bagneux   \n",
       "\n",
       "                                            description  prix  note nb_avis  \\\n",
       "2348  B1 Appart 2022 - 10 min PARIS/EXPO - 5 chambre...  1144  4.85    61.0   \n",
       "2349       Maison 10 min PARIS EXPO - 5 chambres/8 lits  1864  4.83    30.0   \n",
       "2350  KXX Complexe privé 15min PARIS ParcExpo 12 cha...  4570   NaN     NaN   \n",
       "2351                     Maison à 9 minutes de la seine  1797  None    None   \n",
       "2352                                    Paris à 3 min !   799  None    None   \n",
       "\n",
       "     nb_lits nb_chambres  est_professionnel  est_nouveau  \n",
       "2348    None        None              False        False  \n",
       "2349    None        None              False        False  \n",
       "2350    None        None              False        False  \n",
       "2351    None        None              False        False  \n",
       "2352    None        None              False        False  "
      ]
     },
     "execution_count": 86,
     "metadata": {},
     "output_type": "execute_result"
    }
   ],
   "source": [
    "# On ajoute à tous les logements la page en cours de scrapping : \n",
    "tous_les_logements = pd.concat([tous_les_logements, page_df], axis=0, ignore_index=True)\n",
    "print(tous_les_logements.shape)\n",
    "tous_les_logements.tail()"
   ]
  },
  {
   "cell_type": "code",
   "execution_count": null,
   "id": "chicken-handling",
   "metadata": {},
   "outputs": [],
   "source": []
  },
  {
   "cell_type": "code",
   "execution_count": null,
   "id": "italic-permission",
   "metadata": {},
   "outputs": [],
   "source": []
  },
  {
   "cell_type": "code",
   "execution_count": null,
   "id": "needed-brief",
   "metadata": {},
   "outputs": [],
   "source": []
  },
  {
   "cell_type": "code",
   "execution_count": null,
   "id": "corporate-semester",
   "metadata": {},
   "outputs": [],
   "source": []
  },
  {
   "cell_type": "code",
   "execution_count": null,
   "id": "rocky-techno",
   "metadata": {},
   "outputs": [],
   "source": []
  },
  {
   "cell_type": "markdown",
   "id": "cathedral-isolation",
   "metadata": {},
   "source": [
    "Quand on a fini d'itérer sur les pages, on dump :"
   ]
  },
  {
   "cell_type": "code",
   "execution_count": 87,
   "id": "christian-alignment",
   "metadata": {
    "ExecuteTime": {
     "end_time": "2024-04-14T17:35:53.890223Z",
     "start_time": "2024-04-14T17:35:53.836599Z"
    }
   },
   "outputs": [],
   "source": [
    "pickle.dump(tous_les_logements.drop_duplicates().fillna(np.nan), open('tous_les_logements.p', 'wb'))"
   ]
  }
 ],
 "metadata": {
  "kernelspec": {
   "display_name": "pierrou_env",
   "language": "python",
   "name": "pierrou_env"
  },
  "language_info": {
   "codemirror_mode": {
    "name": "ipython",
    "version": 3
   },
   "file_extension": ".py",
   "mimetype": "text/x-python",
   "name": "python",
   "nbconvert_exporter": "python",
   "pygments_lexer": "ipython3",
   "version": "3.8.5"
  }
 },
 "nbformat": 4,
 "nbformat_minor": 5
}
