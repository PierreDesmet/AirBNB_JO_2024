{
 "cells": [
  {
   "cell_type": "markdown",
   "id": "42821897",
   "metadata": {},
   "source": [
    "# AirBNB tracker"
   ]
  },
  {
   "cell_type": "code",
   "execution_count": 1,
   "id": "b4c663f2",
   "metadata": {
    "ExecuteTime": {
     "end_time": "2024-01-25T07:58:09.730807Z",
     "start_time": "2024-01-25T07:58:08.127460Z"
    }
   },
   "outputs": [],
   "source": [
    "import numpy as np\n",
    "import datetime\n",
    "import pandas as pd\n",
    "import pyperclip\n",
    "import pickle\n",
    "import re"
   ]
  },
  {
   "cell_type": "code",
   "execution_count": 2,
   "id": "broad-avenue",
   "metadata": {
    "ExecuteTime": {
     "end_time": "2024-01-25T07:58:09.865796Z",
     "start_time": "2024-01-25T07:58:09.733193Z"
    },
    "scrolled": true
   },
   "outputs": [
    {
     "name": "stdout",
     "output_type": "stream",
     "text": [
      "(404, 12)\n"
     ]
    },
    {
     "data": {
      "text/html": [
       "<div>\n",
       "<style scoped>\n",
       "    .dataframe tbody tr th:only-of-type {\n",
       "        vertical-align: middle;\n",
       "    }\n",
       "\n",
       "    .dataframe tbody tr th {\n",
       "        vertical-align: top;\n",
       "    }\n",
       "\n",
       "    .dataframe thead th {\n",
       "        text-align: right;\n",
       "    }\n",
       "</style>\n",
       "<table border=\"1\" class=\"dataframe\">\n",
       "  <thead>\n",
       "    <tr style=\"text-align: right;\">\n",
       "      <th></th>\n",
       "      <th>date_enregistrement</th>\n",
       "      <th>texte</th>\n",
       "      <th>type</th>\n",
       "      <th>ville</th>\n",
       "      <th>description</th>\n",
       "      <th>prix</th>\n",
       "      <th>note</th>\n",
       "      <th>nb_avis</th>\n",
       "      <th>nb_lits</th>\n",
       "      <th>nb_chambres</th>\n",
       "      <th>est_professionnel</th>\n",
       "      <th>est_nouveau</th>\n",
       "    </tr>\n",
       "  </thead>\n",
       "  <tbody>\n",
       "    <tr>\n",
       "      <th>466</th>\n",
       "      <td>2024-01-13</td>\n",
       "      <td>Hébergement ⋅ Bagneux\\nLoft et jardin verdoyan...</td>\n",
       "      <td>Hébergement</td>\n",
       "      <td>Bagneux</td>\n",
       "      <td>Loft et jardin verdoyant à 20 minutes de Paris</td>\n",
       "      <td>525</td>\n",
       "      <td>NaN</td>\n",
       "      <td>NaN</td>\n",
       "      <td>3.0</td>\n",
       "      <td>3.0</td>\n",
       "      <td>False</td>\n",
       "      <td>False</td>\n",
       "    </tr>\n",
       "    <tr>\n",
       "      <th>467</th>\n",
       "      <td>2024-01-13</td>\n",
       "      <td>Hébergement ⋅ Bagneux\\nMaison proche Paris trè...</td>\n",
       "      <td>Hébergement</td>\n",
       "      <td>Bagneux</td>\n",
       "      <td>Maison proche Paris très confortable</td>\n",
       "      <td>2304</td>\n",
       "      <td>NaN</td>\n",
       "      <td>NaN</td>\n",
       "      <td>5.0</td>\n",
       "      <td>4.0</td>\n",
       "      <td>False</td>\n",
       "      <td>False</td>\n",
       "    </tr>\n",
       "  </tbody>\n",
       "</table>\n",
       "</div>"
      ],
      "text/plain": [
       "    date_enregistrement                                              texte  \\\n",
       "466          2024-01-13  Hébergement ⋅ Bagneux\\nLoft et jardin verdoyan...   \n",
       "467          2024-01-13  Hébergement ⋅ Bagneux\\nMaison proche Paris trè...   \n",
       "\n",
       "            type    ville                                     description  \\\n",
       "466  Hébergement  Bagneux  Loft et jardin verdoyant à 20 minutes de Paris   \n",
       "467  Hébergement  Bagneux            Maison proche Paris très confortable   \n",
       "\n",
       "     prix  note  nb_avis  nb_lits  nb_chambres  est_professionnel  est_nouveau  \n",
       "466   525   NaN      NaN      3.0          3.0              False        False  \n",
       "467  2304   NaN      NaN      5.0          4.0              False        False  "
      ]
     },
     "execution_count": 2,
     "metadata": {},
     "output_type": "execute_result"
    }
   ],
   "source": [
    "tous_les_logements = pickle.load(open('tous_les_logements.p', 'rb'))\n",
    "print(tous_les_logements.shape)\n",
    "tous_les_logements.tail(2)"
   ]
  },
  {
   "cell_type": "code",
   "execution_count": 3,
   "id": "251726ad",
   "metadata": {
    "ExecuteTime": {
     "end_time": "2024-01-25T07:58:11.252216Z",
     "start_time": "2024-01-25T07:58:11.165690Z"
    }
   },
   "outputs": [],
   "source": [
    "class Logement:\n",
    "    __slots__ = [\n",
    "        'date_enregistrement',\n",
    "        'texte',\n",
    "        'type',\n",
    "        'ville',\n",
    "        'description',\n",
    "        'prix',\n",
    "        'note',\n",
    "        'nb_avis',\n",
    "        'nb_lits',\n",
    "        'nb_chambres',\n",
    "        'est_professionnel',\n",
    "        'est_nouveau'\n",
    "    ]\n",
    "    def __init__(self, ville: str, type: str, description: str,\n",
    "                 nb_lits: int, nb_chambres: int,\n",
    "                 est_professionnel: bool, est_nouveau: bool,\n",
    "                 prix: int, note: float, nb_avis: int,\n",
    "                 texte: str):\n",
    "        self.type = type\n",
    "        self.ville = ville\n",
    "        self.description = description\n",
    "        self.nb_lits = nb_lits\n",
    "        self.nb_chambres = nb_chambres\n",
    "        self.prix = prix\n",
    "        self.est_nouveau = est_nouveau\n",
    "        self.est_professionnel = est_professionnel\n",
    "        self.note = note\n",
    "        self.nb_avis = nb_avis\n",
    "\n",
    "        self.date_enregistrement = datetime.date.today()\n",
    "        self.texte = texte\n",
    "    \n",
    "    @classmethod\n",
    "    def from_text(cls, texte):\n",
    "        texte = texte.strip()\n",
    "        attrs = set(cls.__slots__) - {'texte', 'date_enregistrement'}\n",
    "        kwargs = dict(texte=texte)\n",
    "        for attr in attrs:\n",
    "            kwargs[attr] = eval(f'cls._get_{attr}')(texte)\n",
    "        return cls(**kwargs)\n",
    "    \n",
    "    \n",
    "    @staticmethod\n",
    "    def _get_type(texte: str):\n",
    "        pat = ' (⋅|·) '\n",
    "        return re.split(pat, texte.split('\\n')[0])[0]\n",
    "        #return texte.split('\\n')[0].split(pat)[0]\n",
    "    \n",
    "    @staticmethod\n",
    "    def _get_ville(texte: str):\n",
    "        pat = ' (⋅|·) '\n",
    "        return re.split(pat, texte.split('\\n')[0])[2]\n",
    "        #return texte.split('\\n')[0].split(' ⋅ ')[1]\n",
    "\n",
    "    @staticmethod\n",
    "    def _get_description(text: str):\n",
    "        return text.split('\\n')[1]\n",
    "    \n",
    "    @staticmethod\n",
    "    def _get_nb_lits(texte: str):\n",
    "        return Logement._get_nb_lits_nb_chambres(texte)[0]\n",
    "\n",
    "    @staticmethod\n",
    "    def _get_nb_chambres(texte: str):\n",
    "        return Logement._get_nb_lits_nb_chambres(texte)[1]\n",
    "    \n",
    "    @staticmethod\n",
    "    def _get_nb_lits_nb_chambres(texte: str) -> tuple:\n",
    "        nb_lits, nb_chambres = None, None\n",
    "        pat = r'(?P<nb_lits>\\d) lits?'\n",
    "        if (rgx := re.search(pat, texte.split('\\n')[2])):\n",
    "            nb_lits = int(rgx.group()[0])\n",
    "        pat = r'(?P<nb_chambres>\\d) chambres?'\n",
    "        if (rgx := re.search(pat, texte.split('\\n')[2])):\n",
    "            nb_chambres = int(rgx.group()[0])\n",
    "        return nb_lits, nb_chambres\n",
    "    \n",
    "    @staticmethod\n",
    "    def _get_est_professionnel(texte: str):\n",
    "        return texte.split('\\n')[3] == 'Professionnel'\n",
    "    \n",
    "    @staticmethod\n",
    "    def _get_prix(texte: str):\n",
    "        for ligne in texte.split('\\n'):\n",
    "            if rgx := re.match('(?P<prix>[\\d\\u202f]+) € par nuit', ligne):\n",
    "                return int(rgx.groups()[0].replace('\\u202f', ''))\n",
    "        raise ValueError('Pas de prix trouvé sur :\\n' + texte)\n",
    "    \n",
    "    @staticmethod\n",
    "    def _get_est_nouveau(texte: str):\n",
    "        return texte.split('\\n')[-1] == 'Nouveau'\n",
    "    \n",
    "    @staticmethod\n",
    "    def _get_note(texte: str):\n",
    "        return Logement._get_note_et_nb_avis(texte)[0]\n",
    "\n",
    "    @staticmethod\n",
    "    def _get_nb_avis(texte: str):\n",
    "        return Logement._get_note_et_nb_avis(texte)[1]\n",
    "\n",
    "    @staticmethod\n",
    "    def _get_note_et_nb_avis(texte: str):\n",
    "        note, nb_avis = None, None\n",
    "        pat = r'(?P<note>\\d\\,\\d\\d?) \\((?P<nb_avis>\\d+)\\)'\n",
    "        if rgx := re.search(pat, texte):\n",
    "            note = float(rgx.groupdict()['note'].replace(',', '.'))\n",
    "            nb_avis = int(rgx.groupdict()['nb_avis'])\n",
    "        return note, nb_avis\n",
    "    \n",
    "    def __repr__(self):\n",
    "        rep = f'{self.__class__.__name__}('\n",
    "        for attr in ('type', 'ville', 'prix'):\n",
    "            rep += f'\\n    {attr}={getattr(self, attr)},'\n",
    "        rep = rep[:-1] + '\\n)'\n",
    "        return rep\n",
    "\n",
    "\n",
    "def tronque_à_gauche(texte: str) -> str:\n",
    "    \"\"\"Tronque à gauche le texte avant 'Classement des résultats'\"\"\"\n",
    "    stop = texte.find('Classement des résultats')\n",
    "    return texte[stop + len('Classement des résultats'):].strip()\n",
    "\n",
    "def tronque_à_droite(texte: str) -> str:\n",
    "    \"\"\"Tronque à droite le texte qui dépasse de la numérotation des pages\"\"\"\n",
    "    # stop = texte.find('1\\n2\\n3\\n4')\n",
    "    stop = re.search(r'[\\d…]\\n[\\d…]\\n[\\d…]', texte)\n",
    "    if stop:\n",
    "        return texte[:stop.start()].strip()\n",
    "    stop = re.search(r'Carte Google \\d+ séjours affichés.', texte)\n",
    "    texte = texte[:stop.start()].strip()\n",
    "    stop = re.search(r'Un voyage, deux logements', texte)\n",
    "    if stop:\n",
    "        texte = texte[:stop.start()].strip()\n",
    "        \n",
    "    pat = '\\n(Appartement|Chambre|Hébergement|Tiny house|Appartement en résidence|Villa|Maison de ville) [⋅·] .+€\\n'\n",
    "    stop = re.search(pat, texte)\n",
    "    if stop:\n",
    "        texte = texte[:stop.start()].strip()\n",
    "    return texte"
   ]
  },
  {
   "cell_type": "code",
   "execution_count": 61,
   "id": "f6ca6ca3",
   "metadata": {
    "ExecuteTime": {
     "end_time": "2024-01-25T08:06:00.380045Z",
     "start_time": "2024-01-25T08:06:00.314442Z"
    }
   },
   "outputs": [],
   "source": [
    "page = pyperclip.paste()\n",
    "\n",
    "page = tronque_à_gauche(page)\n",
    "page = tronque_à_droite(page)"
   ]
  },
  {
   "cell_type": "code",
   "execution_count": 62,
   "id": "fb669b4d",
   "metadata": {
    "ExecuteTime": {
     "end_time": "2024-01-25T08:06:00.605919Z",
     "start_time": "2024-01-25T08:06:00.598469Z"
    },
    "scrolled": true
   },
   "outputs": [],
   "source": [
    "pat = '(Appartement|Chambre|Hébergement|Loft|Tiny house|Appartement en résidence|Villa|Maison de ville) [⋅·] '\n",
    "splits = [\n",
    "    match.start()\n",
    "    for match in re.finditer(pat, page)\n",
    "]\n",
    "splits += [len(page)]\n",
    "\n",
    "logements = []\n",
    "for texte in [page[start:stop] for start, stop in zip(splits, splits[1:])]:\n",
    "    logements.append(Logement.from_text(texte))"
   ]
  },
  {
   "cell_type": "code",
   "execution_count": 63,
   "id": "liquid-surface",
   "metadata": {
    "ExecuteTime": {
     "end_time": "2024-01-25T08:06:00.902026Z",
     "start_time": "2024-01-25T08:06:00.893862Z"
    },
    "scrolled": true
   },
   "outputs": [],
   "source": [
    "dico = [{attr: getattr(logement, attr) for attr in Logement.__slots__} for logement in logements]\n",
    "page_df = pd.DataFrame(dico, index=range(len(dico)))"
   ]
  },
  {
   "cell_type": "code",
   "execution_count": 64,
   "id": "another-supervisor",
   "metadata": {
    "ExecuteTime": {
     "end_time": "2024-01-25T08:06:02.921666Z",
     "start_time": "2024-01-25T08:06:02.913091Z"
    }
   },
   "outputs": [],
   "source": [
    "assert page_df.shape[0] == 18\n",
    "assert page_df.drop(['nb_lits', 'nb_chambres'], axis=1).notnull().sum().min() > 0"
   ]
  },
  {
   "cell_type": "code",
   "execution_count": 65,
   "id": "future-drama",
   "metadata": {
    "ExecuteTime": {
     "end_time": "2024-01-25T08:06:05.541348Z",
     "start_time": "2024-01-25T08:06:05.520163Z"
    },
    "scrolled": true
   },
   "outputs": [
    {
     "name": "stdout",
     "output_type": "stream",
     "text": [
      "(600, 12)\n"
     ]
    },
    {
     "data": {
      "text/html": [
       "<div>\n",
       "<style scoped>\n",
       "    .dataframe tbody tr th:only-of-type {\n",
       "        vertical-align: middle;\n",
       "    }\n",
       "\n",
       "    .dataframe tbody tr th {\n",
       "        vertical-align: top;\n",
       "    }\n",
       "\n",
       "    .dataframe thead th {\n",
       "        text-align: right;\n",
       "    }\n",
       "</style>\n",
       "<table border=\"1\" class=\"dataframe\">\n",
       "  <thead>\n",
       "    <tr style=\"text-align: right;\">\n",
       "      <th></th>\n",
       "      <th>date_enregistrement</th>\n",
       "      <th>texte</th>\n",
       "      <th>type</th>\n",
       "      <th>ville</th>\n",
       "      <th>description</th>\n",
       "      <th>prix</th>\n",
       "      <th>note</th>\n",
       "      <th>nb_avis</th>\n",
       "      <th>nb_lits</th>\n",
       "      <th>nb_chambres</th>\n",
       "      <th>est_professionnel</th>\n",
       "      <th>est_nouveau</th>\n",
       "    </tr>\n",
       "  </thead>\n",
       "  <tbody>\n",
       "    <tr>\n",
       "      <th>595</th>\n",
       "      <td>2024-01-25</td>\n",
       "      <td>Appartement ⋅ Arcueil\\nLe bonheur d'être chez ...</td>\n",
       "      <td>Appartement</td>\n",
       "      <td>Arcueil</td>\n",
       "      <td>Le bonheur d'être chez soi à Paris</td>\n",
       "      <td>611</td>\n",
       "      <td>4.93</td>\n",
       "      <td>73.0</td>\n",
       "      <td>None</td>\n",
       "      <td>None</td>\n",
       "      <td>True</td>\n",
       "      <td>False</td>\n",
       "    </tr>\n",
       "    <tr>\n",
       "      <th>596</th>\n",
       "      <td>2024-01-25</td>\n",
       "      <td>Appartement ⋅ Cachan\\nBagneux 4 pers 7 min Par...</td>\n",
       "      <td>Appartement</td>\n",
       "      <td>Cachan</td>\n",
       "      <td>Bagneux 4 pers 7 min Paris RER B Netflix</td>\n",
       "      <td>772</td>\n",
       "      <td>4.79</td>\n",
       "      <td>14.0</td>\n",
       "      <td>None</td>\n",
       "      <td>None</td>\n",
       "      <td>True</td>\n",
       "      <td>False</td>\n",
       "    </tr>\n",
       "    <tr>\n",
       "      <th>597</th>\n",
       "      <td>2024-01-25</td>\n",
       "      <td>Hébergement ⋅ Cachan\\nBambouseraie aux portes ...</td>\n",
       "      <td>Hébergement</td>\n",
       "      <td>Cachan</td>\n",
       "      <td>Bambouseraie aux portes de PARIS !</td>\n",
       "      <td>995</td>\n",
       "      <td>4.74</td>\n",
       "      <td>19.0</td>\n",
       "      <td>None</td>\n",
       "      <td>None</td>\n",
       "      <td>False</td>\n",
       "      <td>False</td>\n",
       "    </tr>\n",
       "    <tr>\n",
       "      <th>598</th>\n",
       "      <td>2024-01-25</td>\n",
       "      <td>Chambre · Arcueil\\nSéjournez chez Virginie Et ...</td>\n",
       "      <td>Chambre</td>\n",
       "      <td>Arcueil</td>\n",
       "      <td>Séjournez chez Virginie Et François</td>\n",
       "      <td>896</td>\n",
       "      <td>4.93</td>\n",
       "      <td>30.0</td>\n",
       "      <td>None</td>\n",
       "      <td>None</td>\n",
       "      <td>False</td>\n",
       "      <td>False</td>\n",
       "    </tr>\n",
       "    <tr>\n",
       "      <th>599</th>\n",
       "      <td>2024-01-25</td>\n",
       "      <td>Appartement ⋅ Bagneux\\nAppartement cosy et lou...</td>\n",
       "      <td>Appartement</td>\n",
       "      <td>Bagneux</td>\n",
       "      <td>Appartement cosy et lounge</td>\n",
       "      <td>902</td>\n",
       "      <td>NaN</td>\n",
       "      <td>NaN</td>\n",
       "      <td>None</td>\n",
       "      <td>None</td>\n",
       "      <td>False</td>\n",
       "      <td>False</td>\n",
       "    </tr>\n",
       "  </tbody>\n",
       "</table>\n",
       "</div>"
      ],
      "text/plain": [
       "    date_enregistrement                                              texte  \\\n",
       "595          2024-01-25  Appartement ⋅ Arcueil\\nLe bonheur d'être chez ...   \n",
       "596          2024-01-25  Appartement ⋅ Cachan\\nBagneux 4 pers 7 min Par...   \n",
       "597          2024-01-25  Hébergement ⋅ Cachan\\nBambouseraie aux portes ...   \n",
       "598          2024-01-25  Chambre · Arcueil\\nSéjournez chez Virginie Et ...   \n",
       "599          2024-01-25  Appartement ⋅ Bagneux\\nAppartement cosy et lou...   \n",
       "\n",
       "            type    ville                               description  prix  \\\n",
       "595  Appartement  Arcueil        Le bonheur d'être chez soi à Paris   611   \n",
       "596  Appartement   Cachan  Bagneux 4 pers 7 min Paris RER B Netflix   772   \n",
       "597  Hébergement   Cachan        Bambouseraie aux portes de PARIS !   995   \n",
       "598      Chambre  Arcueil       Séjournez chez Virginie Et François   896   \n",
       "599  Appartement  Bagneux                Appartement cosy et lounge   902   \n",
       "\n",
       "     note  nb_avis nb_lits nb_chambres  est_professionnel  est_nouveau  \n",
       "595  4.93     73.0    None        None               True        False  \n",
       "596  4.79     14.0    None        None               True        False  \n",
       "597  4.74     19.0    None        None              False        False  \n",
       "598  4.93     30.0    None        None              False        False  \n",
       "599   NaN      NaN    None        None              False        False  "
      ]
     },
     "execution_count": 65,
     "metadata": {},
     "output_type": "execute_result"
    }
   ],
   "source": [
    "# On ajoute à tous les logements la page en cours de scrapping : \n",
    "tous_les_logements = pd.concat([tous_les_logements, page_df], axis=0, ignore_index=True)\n",
    "print(tous_les_logements.shape)\n",
    "tous_les_logements.tail()"
   ]
  },
  {
   "cell_type": "code",
   "execution_count": null,
   "id": "perceived-minimum",
   "metadata": {},
   "outputs": [],
   "source": []
  },
  {
   "cell_type": "code",
   "execution_count": null,
   "id": "needed-brief",
   "metadata": {},
   "outputs": [],
   "source": []
  },
  {
   "cell_type": "code",
   "execution_count": null,
   "id": "corporate-semester",
   "metadata": {},
   "outputs": [],
   "source": []
  },
  {
   "cell_type": "code",
   "execution_count": null,
   "id": "rocky-techno",
   "metadata": {},
   "outputs": [],
   "source": []
  },
  {
   "cell_type": "markdown",
   "id": "cathedral-isolation",
   "metadata": {},
   "source": [
    "Quand on a fini d'itérer sur les pages, on dump :"
   ]
  },
  {
   "cell_type": "code",
   "execution_count": 66,
   "id": "christian-alignment",
   "metadata": {
    "ExecuteTime": {
     "end_time": "2024-01-25T08:06:10.316221Z",
     "start_time": "2024-01-25T08:06:10.273069Z"
    }
   },
   "outputs": [],
   "source": [
    "pickle.dump(tous_les_logements.drop_duplicates().fillna(np.nan), open('tous_les_logements.p', 'wb'))"
   ]
  }
 ],
 "metadata": {
  "kernelspec": {
   "display_name": "pierrou_env",
   "language": "python",
   "name": "pierrou_env"
  },
  "language_info": {
   "codemirror_mode": {
    "name": "ipython",
    "version": 3
   },
   "file_extension": ".py",
   "mimetype": "text/x-python",
   "name": "python",
   "nbconvert_exporter": "python",
   "pygments_lexer": "ipython3",
   "version": "3.8.5"
  }
 },
 "nbformat": 4,
 "nbformat_minor": 5
}
