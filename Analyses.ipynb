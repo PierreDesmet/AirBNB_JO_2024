{
 "cells": [
  {
   "cell_type": "markdown",
   "id": "north-saver",
   "metadata": {},
   "source": [
    "# Analyses post scrapping\n",
    "\n",
    "Objectifs :\n",
    "- on veut surveiller le nombre de concurrents\n",
    "- ceux qui arrivent à vendre\n",
    "- ceux qui changent de stratégie"
   ]
  },
  {
   "cell_type": "code",
   "execution_count": 15,
   "id": "chicken-appliance",
   "metadata": {
    "ExecuteTime": {
     "end_time": "2023-12-25T07:31:34.677474Z",
     "start_time": "2023-12-25T07:31:34.674078Z"
    }
   },
   "outputs": [],
   "source": [
    "import pandas as pd\n",
    "import pickle\n",
    "import matplotlib.pyplot as plt\n",
    "import datetime"
   ]
  },
  {
   "cell_type": "code",
   "execution_count": 108,
   "id": "light-theta",
   "metadata": {
    "ExecuteTime": {
     "end_time": "2023-12-25T09:18:49.007450Z",
     "start_time": "2023-12-25T09:18:48.984945Z"
    }
   },
   "outputs": [
    {
     "name": "stdout",
     "output_type": "stream",
     "text": [
      "(142, 11)\n"
     ]
    },
    {
     "data": {
      "text/html": [
       "<div>\n",
       "<style scoped>\n",
       "    .dataframe tbody tr th:only-of-type {\n",
       "        vertical-align: middle;\n",
       "    }\n",
       "\n",
       "    .dataframe tbody tr th {\n",
       "        vertical-align: top;\n",
       "    }\n",
       "\n",
       "    .dataframe thead th {\n",
       "        text-align: right;\n",
       "    }\n",
       "</style>\n",
       "<table border=\"1\" class=\"dataframe\">\n",
       "  <thead>\n",
       "    <tr style=\"text-align: right;\">\n",
       "      <th></th>\n",
       "      <th>date_enregistrement</th>\n",
       "      <th>type</th>\n",
       "      <th>ville</th>\n",
       "      <th>description</th>\n",
       "      <th>prix</th>\n",
       "      <th>note</th>\n",
       "      <th>nb_avis</th>\n",
       "      <th>nb_lits</th>\n",
       "      <th>nb_chambres</th>\n",
       "      <th>est_professionnel</th>\n",
       "      <th>est_nouveau</th>\n",
       "    </tr>\n",
       "  </thead>\n",
       "  <tbody>\n",
       "    <tr>\n",
       "      <th>301</th>\n",
       "      <td>2023-12-25</td>\n",
       "      <td>Hébergement</td>\n",
       "      <td>Cachan</td>\n",
       "      <td>Bambouseraie aux portes de PARIS !</td>\n",
       "      <td>963</td>\n",
       "      <td>4.74</td>\n",
       "      <td>19.0</td>\n",
       "      <td>NaN</td>\n",
       "      <td>NaN</td>\n",
       "      <td>False</td>\n",
       "      <td>False</td>\n",
       "    </tr>\n",
       "    <tr>\n",
       "      <th>302</th>\n",
       "      <td>2023-12-25</td>\n",
       "      <td>Hébergement</td>\n",
       "      <td>Arcueil</td>\n",
       "      <td>Maison élégante près de Paris</td>\n",
       "      <td>447</td>\n",
       "      <td>NaN</td>\n",
       "      <td>NaN</td>\n",
       "      <td>NaN</td>\n",
       "      <td>NaN</td>\n",
       "      <td>False</td>\n",
       "      <td>False</td>\n",
       "    </tr>\n",
       "  </tbody>\n",
       "</table>\n",
       "</div>"
      ],
      "text/plain": [
       "    date_enregistrement         type    ville  \\\n",
       "301          2023-12-25  Hébergement   Cachan   \n",
       "302          2023-12-25  Hébergement  Arcueil   \n",
       "\n",
       "                            description  prix  note  nb_avis  nb_lits  \\\n",
       "301  Bambouseraie aux portes de PARIS !   963  4.74     19.0      NaN   \n",
       "302       Maison élégante près de Paris   447   NaN      NaN      NaN   \n",
       "\n",
       "     nb_chambres  est_professionnel  est_nouveau  \n",
       "301          NaN              False        False  \n",
       "302          NaN              False        False  "
      ]
     },
     "execution_count": 108,
     "metadata": {},
     "output_type": "execute_result"
    }
   ],
   "source": [
    "villes = ['Arcueil', 'Bourg-la-Reine', 'Cachan']\n",
    "df = pickle.load(open('tous_les_logements.p', 'rb')).drop('texte', axis=1)\n",
    "df = df[df.ville.isin(villes)].copy()\n",
    "\n",
    "print(df.shape)\n",
    "df.tail(2)"
   ]
  },
  {
   "cell_type": "code",
   "execution_count": 115,
   "id": "employed-delta",
   "metadata": {
    "ExecuteTime": {
     "end_time": "2023-12-25T09:19:32.613817Z",
     "start_time": "2023-12-25T09:19:32.599058Z"
    }
   },
   "outputs": [
    {
     "data": {
      "text/html": [
       "<div>\n",
       "<style scoped>\n",
       "    .dataframe tbody tr th:only-of-type {\n",
       "        vertical-align: middle;\n",
       "    }\n",
       "\n",
       "    .dataframe tbody tr th {\n",
       "        vertical-align: top;\n",
       "    }\n",
       "\n",
       "    .dataframe thead th {\n",
       "        text-align: right;\n",
       "    }\n",
       "</style>\n",
       "<table border=\"1\" class=\"dataframe\">\n",
       "  <thead>\n",
       "    <tr style=\"text-align: right;\">\n",
       "      <th></th>\n",
       "      <th>date_enregistrement</th>\n",
       "      <th>2023-12-20</th>\n",
       "      <th>2023-12-25</th>\n",
       "    </tr>\n",
       "    <tr>\n",
       "      <th></th>\n",
       "      <th>ville</th>\n",
       "      <th></th>\n",
       "      <th></th>\n",
       "    </tr>\n",
       "  </thead>\n",
       "  <tbody>\n",
       "    <tr>\n",
       "      <th rowspan=\"3\" valign=\"top\">date_enregistrement</th>\n",
       "      <th>Arcueil</th>\n",
       "      <td>9</td>\n",
       "      <td>21</td>\n",
       "    </tr>\n",
       "    <tr>\n",
       "      <th>Bourg-la-Reine</th>\n",
       "      <td>8</td>\n",
       "      <td>11</td>\n",
       "    </tr>\n",
       "    <tr>\n",
       "      <th>Cachan</th>\n",
       "      <td>46</td>\n",
       "      <td>47</td>\n",
       "    </tr>\n",
       "  </tbody>\n",
       "</table>\n",
       "</div>"
      ],
      "text/plain": [
       "date_enregistrement                 2023-12-20  2023-12-25\n",
       "                    ville                                 \n",
       "date_enregistrement Arcueil                  9          21\n",
       "                    Bourg-la-Reine           8          11\n",
       "                    Cachan                  46          47"
      ]
     },
     "execution_count": 115,
     "metadata": {},
     "output_type": "execute_result"
    }
   ],
   "source": [
    "# Nombre de concurrents\n",
    "df.groupby(['date_enregistrement', 'ville']).date_enregistrement.count().to_frame().unstack().T"
   ]
  },
  {
   "cell_type": "code",
   "execution_count": 103,
   "id": "human-hours",
   "metadata": {
    "ExecuteTime": {
     "end_time": "2023-12-25T09:18:02.315069Z",
     "start_time": "2023-12-25T09:18:01.186922Z"
    }
   },
   "outputs": [
    {
     "data": {
      "image/png": "[encoded data removed]",
      "text/plain": [
       "<Figure size 1296x432 with 6 Axes>"
      ]
     },
     "metadata": {
      "needs_background": "light"
     },
     "output_type": "display_data"
    }
   ],
   "source": [
    "fig = plt.figure(figsize=(18, 6))\n",
    "num_plot = 1\n",
    "for ville in villes:\n",
    "    vue = df[df.ville == ville]\n",
    "    for type_ in ('Appartement', 'Hébergement'):\n",
    "        fig.add_subplot(len(villes), 2, num_plot)\n",
    "        plt.title(f'{ville} ({type_})')\n",
    "        vue[vue.type == type_].prix.hist(bins=20)\n",
    "        num_plot += 1\n",
    "plt.tight_layout()"
   ]
  },
  {
   "cell_type": "code",
   "execution_count": 104,
   "id": "excited-frame",
   "metadata": {
    "ExecuteTime": {
     "end_time": "2023-12-25T09:18:02.823096Z",
     "start_time": "2023-12-25T09:18:02.813132Z"
    }
   },
   "outputs": [
    {
     "data": {
      "text/plain": [
       "est_nouveau\n",
       "False    586.500000\n",
       "True     629.866667\n",
       "Name: prix, dtype: float64"
      ]
     },
     "execution_count": 104,
     "metadata": {},
     "output_type": "execute_result"
    }
   ],
   "source": [
    "# Être nouveau augmente les prix\n",
    "df.groupby('est_nouveau').prix.mean()"
   ]
  },
  {
   "cell_type": "code",
   "execution_count": 105,
   "id": "virtual-malpractice",
   "metadata": {
    "ExecuteTime": {
     "end_time": "2023-12-25T09:18:03.386809Z",
     "start_time": "2023-12-25T09:18:03.377490Z"
    }
   },
   "outputs": [
    {
     "data": {
      "text/plain": [
       "est_professionnel\n",
       "False    580.466102\n",
       "True     670.375000\n",
       "Name: prix, dtype: float64"
      ]
     },
     "execution_count": 105,
     "metadata": {},
     "output_type": "execute_result"
    }
   ],
   "source": [
    "# Être professionnel aussi\n",
    "df.groupby('est_professionnel').prix.mean()"
   ]
  },
  {
   "cell_type": "code",
   "execution_count": 198,
   "id": "responsible-elevation",
   "metadata": {
    "ExecuteTime": {
     "end_time": "2023-12-25T10:09:27.847571Z",
     "start_time": "2023-12-25T10:09:27.378797Z"
    }
   },
   "outputs": [
    {
     "data": {
      "image/png": "[encoded data removed]",
      "text/plain": [
       "<Figure size 432x288 with 1 Axes>"
      ]
     },
     "metadata": {
      "needs_background": "light"
     },
     "output_type": "display_data"
    }
   ],
   "source": [
    "# Comment évoluent les prix ?\n",
    "import seaborn as sns\n",
    "vue = df[df.ville == 'Cachan']\n",
    "\n",
    "\n",
    "sns.boxplot(x=vue.date_enregistrement, y=vue.prix, color='lightgray')\n",
    "moyennes = vue.groupby('date_enregistrement').prix.mean()\n",
    "for i, moyenne in enumerate(moyennes):\n",
    "    plt.text(i, moyenne, f'{moyenne:.0f}€', ha='center')\n",
    "plt.title('Évolution des prix');"
   ]
  },
  {
   "cell_type": "code",
   "execution_count": null,
   "id": "imposed-julian",
   "metadata": {},
   "outputs": [],
   "source": []
  },
  {
   "cell_type": "markdown",
   "id": "metallic-pride",
   "metadata": {},
   "source": [
    "## Suivi des logements dans le temps"
   ]
  },
  {
   "cell_type": "code",
   "execution_count": 170,
   "id": "sustainable-jordan",
   "metadata": {
    "ExecuteTime": {
     "end_time": "2023-12-25T09:48:33.700911Z",
     "start_time": "2023-12-25T09:48:33.656925Z"
    }
   },
   "outputs": [
    {
     "data": {
      "text/html": [
       "<div>\n",
       "<style scoped>\n",
       "    .dataframe tbody tr th:only-of-type {\n",
       "        vertical-align: middle;\n",
       "    }\n",
       "\n",
       "    .dataframe tbody tr th {\n",
       "        vertical-align: top;\n",
       "    }\n",
       "\n",
       "    .dataframe thead th {\n",
       "        text-align: right;\n",
       "    }\n",
       "</style>\n",
       "<table border=\"1\" class=\"dataframe\">\n",
       "  <thead>\n",
       "    <tr style=\"text-align: right;\">\n",
       "      <th></th>\n",
       "      <th></th>\n",
       "      <th></th>\n",
       "      <th>2023-12-20</th>\n",
       "      <th>2023-12-25</th>\n",
       "    </tr>\n",
       "    <tr>\n",
       "      <th>ville</th>\n",
       "      <th>type</th>\n",
       "      <th>description</th>\n",
       "      <th></th>\n",
       "      <th></th>\n",
       "    </tr>\n",
       "  </thead>\n",
       "  <tbody>\n",
       "    <tr>\n",
       "      <th rowspan=\"5\" valign=\"top\">Arcueil</th>\n",
       "      <th rowspan=\"5\" valign=\"top\">Appartement</th>\n",
       "      <th>Appartement Cocon avec parking privé près de Paris</th>\n",
       "      <td>690.0</td>\n",
       "      <td>NaN</td>\n",
       "    </tr>\n",
       "    <tr>\n",
       "      <th>Appartement duplex - Arcueil</th>\n",
       "      <td>565.0</td>\n",
       "      <td>565.0</td>\n",
       "    </tr>\n",
       "    <tr>\n",
       "      <th>Beau T3 à Arcueil à 3 min RER B « Laplace »</th>\n",
       "      <td>573.0</td>\n",
       "      <td>NaN</td>\n",
       "    </tr>\n",
       "    <tr>\n",
       "      <th>Home sweet home in Paris</th>\n",
       "      <td>579.0</td>\n",
       "      <td>579.0</td>\n",
       "    </tr>\n",
       "    <tr>\n",
       "      <th>L'Essentiel : Appartement lumineux proche de tout</th>\n",
       "      <td>381.0</td>\n",
       "      <td>NaN</td>\n",
       "    </tr>\n",
       "    <tr>\n",
       "      <th>...</th>\n",
       "      <th>...</th>\n",
       "      <th>...</th>\n",
       "      <td>...</td>\n",
       "      <td>...</td>\n",
       "    </tr>\n",
       "    <tr>\n",
       "      <th rowspan=\"5\" valign=\"top\">Cachan</th>\n",
       "      <th rowspan=\"3\" valign=\"top\">Hébergement</th>\n",
       "      <th>Maison entière à 2km de Paris pour les JO 2024</th>\n",
       "      <td>705.0</td>\n",
       "      <td>705.0</td>\n",
       "    </tr>\n",
       "    <tr>\n",
       "      <th>Petite maison tout confort parking terrasse jardin</th>\n",
       "      <td>280.0</td>\n",
       "      <td>280.0</td>\n",
       "    </tr>\n",
       "    <tr>\n",
       "      <th>Summer 2023 Cheerful 3-bedroom family home</th>\n",
       "      <td>340.0</td>\n",
       "      <td>340.0</td>\n",
       "    </tr>\n",
       "    <tr>\n",
       "      <th rowspan=\"2\" valign=\"top\">Villa</th>\n",
       "      <th>Jardin fleuri tout près de Paris</th>\n",
       "      <td>916.0</td>\n",
       "      <td>916.0</td>\n",
       "    </tr>\n",
       "    <tr>\n",
       "      <th>Maison et jardin boisé A 10 minutes de Paris !</th>\n",
       "      <td>805.0</td>\n",
       "      <td>NaN</td>\n",
       "    </tr>\n",
       "  </tbody>\n",
       "</table>\n",
       "<p>63 rows × 2 columns</p>\n",
       "</div>"
      ],
      "text/plain": [
       "                                                                        2023-12-20  \\\n",
       "ville   type        description                                                      \n",
       "Arcueil Appartement Appartement Cocon avec parking privé près de Paris       690.0   \n",
       "                    Appartement duplex - Arcueil                             565.0   \n",
       "                    Beau T3 à Arcueil à 3 min RER B « Laplace »              573.0   \n",
       "                    Home sweet home in Paris                                 579.0   \n",
       "                    L'Essentiel : Appartement lumineux proche de tout        381.0   \n",
       "...                                                                            ...   \n",
       "Cachan  Hébergement Maison entière à 2km de Paris pour les JO 2024           705.0   \n",
       "                    Petite maison tout confort parking terrasse jardin       280.0   \n",
       "                    Summer 2023 Cheerful 3-bedroom family home               340.0   \n",
       "        Villa       Jardin fleuri tout près de Paris                         916.0   \n",
       "                    Maison et jardin boisé A 10 minutes de Paris !           805.0   \n",
       "\n",
       "                                                                        2023-12-25  \n",
       "ville   type        description                                                     \n",
       "Arcueil Appartement Appartement Cocon avec parking privé près de Paris         NaN  \n",
       "                    Appartement duplex - Arcueil                             565.0  \n",
       "                    Beau T3 à Arcueil à 3 min RER B « Laplace »                NaN  \n",
       "                    Home sweet home in Paris                                 579.0  \n",
       "                    L'Essentiel : Appartement lumineux proche de tout          NaN  \n",
       "...                                                                            ...  \n",
       "Cachan  Hébergement Maison entière à 2km de Paris pour les JO 2024           705.0  \n",
       "                    Petite maison tout confort parking terrasse jardin       280.0  \n",
       "                    Summer 2023 Cheerful 3-bedroom family home               340.0  \n",
       "        Villa       Jardin fleuri tout près de Paris                         916.0  \n",
       "                    Maison et jardin boisé A 10 minutes de Paris !             NaN  \n",
       "\n",
       "[63 rows x 2 columns]"
      ]
     },
     "execution_count": 170,
     "metadata": {},
     "output_type": "execute_result"
    }
   ],
   "source": [
    "vue = df[['date_enregistrement'] + clé + ['prix']].drop_duplicates()\n",
    "gb = vue.groupby(clé).prix.apply(list).apply(pd.Series)\n",
    "dates = list(map(lambda d: d.strftime('%Y-%m-%d'), vue.date_enregistrement.unique()))\n",
    "gb.columns = dates\n",
    "gb"
   ]
  },
  {
   "cell_type": "code",
   "execution_count": 173,
   "id": "happy-prevention",
   "metadata": {
    "ExecuteTime": {
     "end_time": "2023-12-25T09:49:36.216991Z",
     "start_time": "2023-12-25T09:49:36.203476Z"
    }
   },
   "outputs": [
    {
     "data": {
      "text/html": [
       "<div>\n",
       "<style scoped>\n",
       "    .dataframe tbody tr th:only-of-type {\n",
       "        vertical-align: middle;\n",
       "    }\n",
       "\n",
       "    .dataframe tbody tr th {\n",
       "        vertical-align: top;\n",
       "    }\n",
       "\n",
       "    .dataframe thead th {\n",
       "        text-align: right;\n",
       "    }\n",
       "</style>\n",
       "<table border=\"1\" class=\"dataframe\">\n",
       "  <thead>\n",
       "    <tr style=\"text-align: right;\">\n",
       "      <th></th>\n",
       "      <th></th>\n",
       "      <th></th>\n",
       "      <th>2023-12-20</th>\n",
       "      <th>2023-12-25</th>\n",
       "    </tr>\n",
       "    <tr>\n",
       "      <th>ville</th>\n",
       "      <th>type</th>\n",
       "      <th>description</th>\n",
       "      <th></th>\n",
       "      <th></th>\n",
       "    </tr>\n",
       "  </thead>\n",
       "  <tbody>\n",
       "    <tr>\n",
       "      <th>Arcueil</th>\n",
       "      <th>Hébergement</th>\n",
       "      <th>La Maison Ensoleillée - 2 Chambres - RER B &amp; M7</th>\n",
       "      <td>1425.0</td>\n",
       "      <td>1355.0</td>\n",
       "    </tr>\n",
       "    <tr>\n",
       "      <th>Cachan</th>\n",
       "      <th>Appartement</th>\n",
       "      <th>2P a 10 min à pied du RER B</th>\n",
       "      <td>389.0</td>\n",
       "      <td>380.0</td>\n",
       "    </tr>\n",
       "  </tbody>\n",
       "</table>\n",
       "</div>"
      ],
      "text/plain": [
       "                                                                     2023-12-20  \\\n",
       "ville   type        description                                                   \n",
       "Arcueil Hébergement La Maison Ensoleillée - 2 Chambres - RER B & M7      1425.0   \n",
       "Cachan  Appartement 2P a 10 min à pied du RER B                           389.0   \n",
       "\n",
       "                                                                     2023-12-25  \n",
       "ville   type        description                                                  \n",
       "Arcueil Hébergement La Maison Ensoleillée - 2 Chambres - RER B & M7      1355.0  \n",
       "Cachan  Appartement 2P a 10 min à pied du RER B                           380.0  "
      ]
     },
     "execution_count": 173,
     "metadata": {},
     "output_type": "execute_result"
    }
   ],
   "source": [
    "# Ceux qui changent de stratégie :\n",
    "gb[gb['2023-12-20'] != gb['2023-12-25']].dropna(how='any')"
   ]
  },
  {
   "cell_type": "code",
   "execution_count": null,
   "id": "governmental-lafayette",
   "metadata": {},
   "outputs": [],
   "source": []
  },
  {
   "cell_type": "markdown",
   "id": "collaborative-harvey",
   "metadata": {
    "heading_collapsed": true
   },
   "source": [
    "## Annexes"
   ]
  },
  {
   "cell_type": "code",
   "execution_count": 122,
   "id": "varying-visibility",
   "metadata": {
    "ExecuteTime": {
     "end_time": "2023-12-25T09:29:49.980583Z",
     "start_time": "2023-12-25T09:29:49.961597Z"
    },
    "hidden": true,
    "scrolled": true
   },
   "outputs": [
    {
     "data": {
      "text/html": [
       "<div>\n",
       "<style scoped>\n",
       "    .dataframe tbody tr th:only-of-type {\n",
       "        vertical-align: middle;\n",
       "    }\n",
       "\n",
       "    .dataframe tbody tr th {\n",
       "        vertical-align: top;\n",
       "    }\n",
       "\n",
       "    .dataframe thead th {\n",
       "        text-align: right;\n",
       "    }\n",
       "</style>\n",
       "<table border=\"1\" class=\"dataframe\">\n",
       "  <thead>\n",
       "    <tr style=\"text-align: right;\">\n",
       "      <th></th>\n",
       "      <th>type</th>\n",
       "      <th>ville</th>\n",
       "      <th>description</th>\n",
       "      <th>prix</th>\n",
       "      <th>nb_lits</th>\n",
       "      <th>nb_chambres</th>\n",
       "      <th>est_professionnel</th>\n",
       "    </tr>\n",
       "  </thead>\n",
       "  <tbody>\n",
       "    <tr>\n",
       "      <th>41</th>\n",
       "      <td>Hébergement</td>\n",
       "      <td>Arcueil</td>\n",
       "      <td>La Maison Ensoleillée - 2 Chambres - RER B &amp; M7</td>\n",
       "      <td>1425</td>\n",
       "      <td>NaN</td>\n",
       "      <td>NaN</td>\n",
       "      <td>False</td>\n",
       "    </tr>\n",
       "    <tr>\n",
       "      <th>57</th>\n",
       "      <td>Appartement</td>\n",
       "      <td>Cachan</td>\n",
       "      <td>2P a 10 min à pied du RER B</td>\n",
       "      <td>389</td>\n",
       "      <td>NaN</td>\n",
       "      <td>NaN</td>\n",
       "      <td>False</td>\n",
       "    </tr>\n",
       "    <tr>\n",
       "      <th>197</th>\n",
       "      <td>Appartement</td>\n",
       "      <td>Cachan</td>\n",
       "      <td>2P a 10 min à pied du RER B</td>\n",
       "      <td>380</td>\n",
       "      <td>NaN</td>\n",
       "      <td>NaN</td>\n",
       "      <td>False</td>\n",
       "    </tr>\n",
       "    <tr>\n",
       "      <th>239</th>\n",
       "      <td>Hébergement</td>\n",
       "      <td>Arcueil</td>\n",
       "      <td>La Maison Ensoleillée - 2 Chambres - RER B &amp; M7</td>\n",
       "      <td>1355</td>\n",
       "      <td>NaN</td>\n",
       "      <td>NaN</td>\n",
       "      <td>False</td>\n",
       "    </tr>\n",
       "  </tbody>\n",
       "</table>\n",
       "</div>"
      ],
      "text/plain": [
       "            type    ville                                      description  \\\n",
       "41   Hébergement  Arcueil  La Maison Ensoleillée - 2 Chambres - RER B & M7   \n",
       "57   Appartement   Cachan                      2P a 10 min à pied du RER B   \n",
       "197  Appartement   Cachan                      2P a 10 min à pied du RER B   \n",
       "239  Hébergement  Arcueil  La Maison Ensoleillée - 2 Chambres - RER B & M7   \n",
       "\n",
       "     prix  nb_lits  nb_chambres  est_professionnel  \n",
       "41   1425      NaN          NaN              False  \n",
       "57    389      NaN          NaN              False  \n",
       "197   380      NaN          NaN              False  \n",
       "239  1355      NaN          NaN              False  "
      ]
     },
     "execution_count": 122,
     "metadata": {},
     "output_type": "execute_result"
    }
   ],
   "source": [
    "# Recherche d'une clé primaire : \n",
    "variables_dynamiques = ['date_enregistrement', 'est_nouveau', 'note', 'nb_avis']\n",
    "vue = df.drop(variables_dynamiques, axis=1).drop_duplicates()\n",
    "vue[vue[clé].duplicated(keep=False)]\n",
    "\n",
    "# --> les logements qui apparaissent sont ceux qui ont changé de stratégie de prix !\n",
    "# --> la clé ['ville', 'type', 'description'] identifie donc un logement de façon unique"
   ]
  }
 ],
 "metadata": {
  "kernelspec": {
   "display_name": "pierrou_env",
   "language": "python",
   "name": "pierrou_env"
  },
  "language_info": {
   "codemirror_mode": {
    "name": "ipython",
    "version": 3
   },
   "file_extension": ".py",
   "mimetype": "text/x-python",
   "name": "python",
   "nbconvert_exporter": "python",
   "pygments_lexer": "ipython3",
   "version": "3.8.5"
  }
 },
 "nbformat": 4,
 "nbformat_minor": 5
}
