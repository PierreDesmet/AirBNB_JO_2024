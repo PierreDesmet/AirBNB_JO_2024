{
 "cells": [
  {
   "cell_type": "markdown",
   "id": "north-saver",
   "metadata": {},
   "source": [
    "# Analyses post scrapping"
   ]
  },
  {
   "cell_type": "code",
   "execution_count": 1,
   "id": "chicken-appliance",
   "metadata": {
    "ExecuteTime": {
     "end_time": "2023-12-20T10:39:24.788767Z",
     "start_time": "2023-12-20T10:39:24.179400Z"
    }
   },
   "outputs": [],
   "source": [
    "import pandas as pd\n",
    "import pickle"
   ]
  },
  {
   "cell_type": "code",
   "execution_count": 9,
   "id": "light-theta",
   "metadata": {
    "ExecuteTime": {
     "end_time": "2023-12-20T10:54:27.714586Z",
     "start_time": "2023-12-20T10:54:27.665296Z"
    }
   },
   "outputs": [
    {
     "name": "stdout",
     "output_type": "stream",
     "text": [
      "(127, 12)\n"
     ]
    },
    {
     "data": {
      "text/html": [
       "<div>\n",
       "<style scoped>\n",
       "    .dataframe tbody tr th:only-of-type {\n",
       "        vertical-align: middle;\n",
       "    }\n",
       "\n",
       "    .dataframe tbody tr th {\n",
       "        vertical-align: top;\n",
       "    }\n",
       "\n",
       "    .dataframe thead th {\n",
       "        text-align: right;\n",
       "    }\n",
       "</style>\n",
       "<table border=\"1\" class=\"dataframe\">\n",
       "  <thead>\n",
       "    <tr style=\"text-align: right;\">\n",
       "      <th></th>\n",
       "      <th>date_enregistrement</th>\n",
       "      <th>texte</th>\n",
       "      <th>type</th>\n",
       "      <th>ville</th>\n",
       "      <th>description</th>\n",
       "      <th>prix</th>\n",
       "      <th>note</th>\n",
       "      <th>nb_avis</th>\n",
       "      <th>nb_lits</th>\n",
       "      <th>nb_chambres</th>\n",
       "      <th>est_professionnel</th>\n",
       "      <th>est_nouveau</th>\n",
       "    </tr>\n",
       "  </thead>\n",
       "  <tbody>\n",
       "    <tr>\n",
       "      <th>149</th>\n",
       "      <td>2023-12-20</td>\n",
       "      <td>Appartement ⋅ Cachan\\nAppartement lumineux\\nAr...</td>\n",
       "      <td>None</td>\n",
       "      <td>None</td>\n",
       "      <td>Appartement lumineux</td>\n",
       "      <td>750</td>\n",
       "      <td>NaN</td>\n",
       "      <td>NaN</td>\n",
       "      <td>None</td>\n",
       "      <td>None</td>\n",
       "      <td>False</td>\n",
       "      <td>False</td>\n",
       "    </tr>\n",
       "    <tr>\n",
       "      <th>150</th>\n",
       "      <td>2023-12-20</td>\n",
       "      <td>Appartement ⋅ Bagneux\\nBagneux YourHostHelper\\...</td>\n",
       "      <td>None</td>\n",
       "      <td>None</td>\n",
       "      <td>Bagneux YourHostHelper</td>\n",
       "      <td>586</td>\n",
       "      <td>NaN</td>\n",
       "      <td>NaN</td>\n",
       "      <td>None</td>\n",
       "      <td>None</td>\n",
       "      <td>False</td>\n",
       "      <td>False</td>\n",
       "    </tr>\n",
       "  </tbody>\n",
       "</table>\n",
       "</div>"
      ],
      "text/plain": [
       "    date_enregistrement                                              texte  \\\n",
       "149          2023-12-20  Appartement ⋅ Cachan\\nAppartement lumineux\\nAr...   \n",
       "150          2023-12-20  Appartement ⋅ Bagneux\\nBagneux YourHostHelper\\...   \n",
       "\n",
       "     type ville             description  prix  note  nb_avis nb_lits  \\\n",
       "149  None  None    Appartement lumineux   750   NaN      NaN    None   \n",
       "150  None  None  Bagneux YourHostHelper   586   NaN      NaN    None   \n",
       "\n",
       "    nb_chambres  est_professionnel  est_nouveau  \n",
       "149        None              False        False  \n",
       "150        None              False        False  "
      ]
     },
     "execution_count": 9,
     "metadata": {},
     "output_type": "execute_result"
    }
   ],
   "source": [
    "df = pickle.load(open('tous_les_logements.p', 'rb'))\n",
    "print(df.shape)\n",
    "df.tail(2)"
   ]
  },
  {
   "cell_type": "code",
   "execution_count": 13,
   "id": "employed-delta",
   "metadata": {
    "ExecuteTime": {
     "end_time": "2023-12-20T10:56:04.893821Z",
     "start_time": "2023-12-20T10:56:04.881506Z"
    }
   },
   "outputs": [
    {
     "data": {
      "text/html": [
       "<div>\n",
       "<style scoped>\n",
       "    .dataframe tbody tr th:only-of-type {\n",
       "        vertical-align: middle;\n",
       "    }\n",
       "\n",
       "    .dataframe tbody tr th {\n",
       "        vertical-align: top;\n",
       "    }\n",
       "\n",
       "    .dataframe thead th {\n",
       "        text-align: right;\n",
       "    }\n",
       "</style>\n",
       "<table border=\"1\" class=\"dataframe\">\n",
       "  <thead>\n",
       "    <tr style=\"text-align: right;\">\n",
       "      <th></th>\n",
       "      <th></th>\n",
       "      <th>texte</th>\n",
       "    </tr>\n",
       "    <tr>\n",
       "      <th>date_enregistrement</th>\n",
       "      <th>ville</th>\n",
       "      <th></th>\n",
       "    </tr>\n",
       "  </thead>\n",
       "  <tbody>\n",
       "    <tr>\n",
       "      <th rowspan=\"14\" valign=\"top\">2023-12-20</th>\n",
       "      <th>Antony</th>\n",
       "      <td>9</td>\n",
       "    </tr>\n",
       "    <tr>\n",
       "      <th>Arcueil</th>\n",
       "      <td>9</td>\n",
       "    </tr>\n",
       "    <tr>\n",
       "      <th>Bagneux</th>\n",
       "      <td>9</td>\n",
       "    </tr>\n",
       "    <tr>\n",
       "      <th>Bourg-la-Reine</th>\n",
       "      <td>8</td>\n",
       "    </tr>\n",
       "    <tr>\n",
       "      <th>Cachan</th>\n",
       "      <td>46</td>\n",
       "    </tr>\n",
       "    <tr>\n",
       "      <th>Chevilly-Larue</th>\n",
       "      <td>1</td>\n",
       "    </tr>\n",
       "    <tr>\n",
       "      <th>Châtenay-Malabry</th>\n",
       "      <td>2</td>\n",
       "    </tr>\n",
       "    <tr>\n",
       "      <th>Fontenay-aux-Roses</th>\n",
       "      <td>1</td>\n",
       "    </tr>\n",
       "    <tr>\n",
       "      <th>Fresnes</th>\n",
       "      <td>4</td>\n",
       "    </tr>\n",
       "    <tr>\n",
       "      <th>L'Haÿ-les-Roses</th>\n",
       "      <td>13</td>\n",
       "    </tr>\n",
       "    <tr>\n",
       "      <th>Malakoff</th>\n",
       "      <td>1</td>\n",
       "    </tr>\n",
       "    <tr>\n",
       "      <th>Sceaux</th>\n",
       "      <td>2</td>\n",
       "    </tr>\n",
       "    <tr>\n",
       "      <th>Villejuif</th>\n",
       "      <td>3</td>\n",
       "    </tr>\n",
       "    <tr>\n",
       "      <th>Vitry-sur-Seine</th>\n",
       "      <td>1</td>\n",
       "    </tr>\n",
       "  </tbody>\n",
       "</table>\n",
       "</div>"
      ],
      "text/plain": [
       "                                        texte\n",
       "date_enregistrement ville                    \n",
       "2023-12-20          Antony                  9\n",
       "                    Arcueil                 9\n",
       "                    Bagneux                 9\n",
       "                    Bourg-la-Reine          8\n",
       "                    Cachan                 46\n",
       "                    Chevilly-Larue          1\n",
       "                    Châtenay-Malabry        2\n",
       "                    Fontenay-aux-Roses      1\n",
       "                    Fresnes                 4\n",
       "                    L'Haÿ-les-Roses        13\n",
       "                    Malakoff                1\n",
       "                    Sceaux                  2\n",
       "                    Villejuif               3\n",
       "                    Vitry-sur-Seine         1"
      ]
     },
     "execution_count": 13,
     "metadata": {},
     "output_type": "execute_result"
    }
   ],
   "source": [
    "#nb_concurrents = \n",
    "df.groupby(['date_enregistrement', 'ville']).texte.count().to_frame()\n",
    "\n",
    "#Plus tard, faire un pivot"
   ]
  },
  {
   "cell_type": "code",
   "execution_count": 34,
   "id": "stuck-grave",
   "metadata": {
    "ExecuteTime": {
     "end_time": "2023-12-20T11:04:50.531725Z",
     "start_time": "2023-12-20T11:04:50.522014Z"
    }
   },
   "outputs": [
    {
     "data": {
      "text/plain": [
       "nb_lits\n",
       "2.0    396.0\n",
       "3.0    360.0\n",
       "4.0    359.0\n",
       "Name: prix, dtype: float64"
      ]
     },
     "execution_count": 34,
     "metadata": {},
     "output_type": "execute_result"
    }
   ],
   "source": [
    "vue = df[df.ville == 'Cachan'].copy()\n",
    "vue['avec_note'] = vue.note.notnull()\n",
    "df.groupby('nb_lits').prix.mean()"
   ]
  },
  {
   "cell_type": "code",
   "execution_count": 19,
   "id": "human-hours",
   "metadata": {
    "ExecuteTime": {
     "end_time": "2023-12-20T10:59:45.149779Z",
     "start_time": "2023-12-20T10:59:44.912926Z"
    }
   },
   "outputs": [
    {
     "data": {
      "text/plain": [
       "<Axes: >"
      ]
     },
     "execution_count": 19,
     "metadata": {},
     "output_type": "execute_result"
    },
    {
     "data": {
      "image/png": "[encoded data removed]",
      "text/plain": [
       "<Figure size 432x288 with 1 Axes>"
      ]
     },
     "metadata": {
      "needs_background": "light"
     },
     "output_type": "display_data"
    }
   ],
   "source": [
    "df[df.ville == 'Cachan'].prix.hist(bins=30)"
   ]
  }
 ],
 "metadata": {
  "kernelspec": {
   "display_name": "pierrou_env",
   "language": "python",
   "name": "pierrou_env"
  },
  "language_info": {
   "codemirror_mode": {
    "name": "ipython",
    "version": 3
   },
   "file_extension": ".py",
   "mimetype": "text/x-python",
   "name": "python",
   "nbconvert_exporter": "python",
   "pygments_lexer": "ipython3",
   "version": "3.8.5"
  }
 },
 "nbformat": 4,
 "nbformat_minor": 5
}
