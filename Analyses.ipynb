{
 "cells": [
  {
   "cell_type": "markdown",
   "id": "north-saver",
   "metadata": {},
   "source": [
    "# Analyses post scrapping\n",
    "\n",
    "Objectifs :\n",
    "- on veut surveiller le nombre de concurrents\n",
    "- ceux qui arrivent à vendre\n",
    "- ceux qui changent de stratégie"
   ]
  },
  {
   "cell_type": "code",
   "execution_count": 1,
   "id": "chicken-appliance",
   "metadata": {
    "ExecuteTime": {
     "end_time": "2024-01-06T11:41:53.432645Z",
     "start_time": "2024-01-06T11:41:51.835188Z"
    }
   },
   "outputs": [],
   "source": [
    "import pandas as pd\n",
    "import pickle\n",
    "import matplotlib.pyplot as plt\n",
    "import datetime"
   ]
  },
  {
   "cell_type": "code",
   "execution_count": 2,
   "id": "light-theta",
   "metadata": {
    "ExecuteTime": {
     "end_time": "2024-01-06T11:41:55.936869Z",
     "start_time": "2024-01-06T11:41:55.860949Z"
    }
   },
   "outputs": [
    {
     "name": "stdout",
     "output_type": "stream",
     "text": [
      "(219, 11)\n"
     ]
    },
    {
     "data": {
      "text/html": [
       "<div>\n",
       "<style scoped>\n",
       "    .dataframe tbody tr th:only-of-type {\n",
       "        vertical-align: middle;\n",
       "    }\n",
       "\n",
       "    .dataframe tbody tr th {\n",
       "        vertical-align: top;\n",
       "    }\n",
       "\n",
       "    .dataframe thead th {\n",
       "        text-align: right;\n",
       "    }\n",
       "</style>\n",
       "<table border=\"1\" class=\"dataframe\">\n",
       "  <thead>\n",
       "    <tr style=\"text-align: right;\">\n",
       "      <th></th>\n",
       "      <th>date_enregistrement</th>\n",
       "      <th>type</th>\n",
       "      <th>ville</th>\n",
       "      <th>description</th>\n",
       "      <th>prix</th>\n",
       "      <th>note</th>\n",
       "      <th>nb_avis</th>\n",
       "      <th>nb_lits</th>\n",
       "      <th>nb_chambres</th>\n",
       "      <th>est_professionnel</th>\n",
       "      <th>est_nouveau</th>\n",
       "    </tr>\n",
       "  </thead>\n",
       "  <tbody>\n",
       "    <tr>\n",
       "      <th>391</th>\n",
       "      <td>2024-01-06</td>\n",
       "      <td>Appartement</td>\n",
       "      <td>Cachan</td>\n",
       "      <td>appartement t1 indépendant. (ga)</td>\n",
       "      <td>195</td>\n",
       "      <td>NaN</td>\n",
       "      <td>NaN</td>\n",
       "      <td>2.0</td>\n",
       "      <td>1.0</td>\n",
       "      <td>False</td>\n",
       "      <td>True</td>\n",
       "    </tr>\n",
       "    <tr>\n",
       "      <th>392</th>\n",
       "      <td>2024-01-06</td>\n",
       "      <td>Appartement</td>\n",
       "      <td>Cachan</td>\n",
       "      <td>2P a 10 min à pied du RER B</td>\n",
       "      <td>395</td>\n",
       "      <td>NaN</td>\n",
       "      <td>NaN</td>\n",
       "      <td>2.0</td>\n",
       "      <td>1.0</td>\n",
       "      <td>False</td>\n",
       "      <td>False</td>\n",
       "    </tr>\n",
       "  </tbody>\n",
       "</table>\n",
       "</div>"
      ],
      "text/plain": [
       "    date_enregistrement         type   ville  \\\n",
       "391          2024-01-06  Appartement  Cachan   \n",
       "392          2024-01-06  Appartement  Cachan   \n",
       "\n",
       "                          description  prix  note  nb_avis  nb_lits  \\\n",
       "391  appartement t1 indépendant. (ga)   195   NaN      NaN      2.0   \n",
       "392       2P a 10 min à pied du RER B   395   NaN      NaN      2.0   \n",
       "\n",
       "     nb_chambres  est_professionnel  est_nouveau  \n",
       "391          1.0              False         True  \n",
       "392          1.0              False        False  "
      ]
     },
     "execution_count": 2,
     "metadata": {},
     "output_type": "execute_result"
    }
   ],
   "source": [
    "villes = ['Arcueil', 'Bourg-la-Reine', 'Cachan']\n",
    "df = pickle.load(open('tous_les_logements.p', 'rb')).drop('texte', axis=1)\n",
    "df = df[df.ville.isin(villes)].copy()\n",
    "\n",
    "print(df.shape)\n",
    "df.tail(2)"
   ]
  },
  {
   "cell_type": "code",
   "execution_count": 3,
   "id": "employed-delta",
   "metadata": {
    "ExecuteTime": {
     "end_time": "2024-01-06T11:42:01.203637Z",
     "start_time": "2024-01-06T11:42:01.179290Z"
    }
   },
   "outputs": [
    {
     "data": {
      "text/html": [
       "<div>\n",
       "<style scoped>\n",
       "    .dataframe tbody tr th:only-of-type {\n",
       "        vertical-align: middle;\n",
       "    }\n",
       "\n",
       "    .dataframe tbody tr th {\n",
       "        vertical-align: top;\n",
       "    }\n",
       "\n",
       "    .dataframe thead th {\n",
       "        text-align: right;\n",
       "    }\n",
       "</style>\n",
       "<table border=\"1\" class=\"dataframe\">\n",
       "  <thead>\n",
       "    <tr style=\"text-align: right;\">\n",
       "      <th></th>\n",
       "      <th>date_enregistrement</th>\n",
       "      <th>2023-12-20</th>\n",
       "      <th>2023-12-25</th>\n",
       "      <th>2024-01-06</th>\n",
       "    </tr>\n",
       "    <tr>\n",
       "      <th></th>\n",
       "      <th>ville</th>\n",
       "      <th></th>\n",
       "      <th></th>\n",
       "      <th></th>\n",
       "    </tr>\n",
       "  </thead>\n",
       "  <tbody>\n",
       "    <tr>\n",
       "      <th rowspan=\"3\" valign=\"top\">date_enregistrement</th>\n",
       "      <th>Arcueil</th>\n",
       "      <td>9</td>\n",
       "      <td>21</td>\n",
       "      <td>17</td>\n",
       "    </tr>\n",
       "    <tr>\n",
       "      <th>Bourg-la-Reine</th>\n",
       "      <td>8</td>\n",
       "      <td>11</td>\n",
       "      <td>7</td>\n",
       "    </tr>\n",
       "    <tr>\n",
       "      <th>Cachan</th>\n",
       "      <td>46</td>\n",
       "      <td>47</td>\n",
       "      <td>53</td>\n",
       "    </tr>\n",
       "  </tbody>\n",
       "</table>\n",
       "</div>"
      ],
      "text/plain": [
       "date_enregistrement                 2023-12-20  2023-12-25  2024-01-06\n",
       "                    ville                                             \n",
       "date_enregistrement Arcueil                  9          21          17\n",
       "                    Bourg-la-Reine           8          11           7\n",
       "                    Cachan                  46          47          53"
      ]
     },
     "execution_count": 3,
     "metadata": {},
     "output_type": "execute_result"
    }
   ],
   "source": [
    "# Nombre de concurrents\n",
    "df.groupby(['date_enregistrement', 'ville']).date_enregistrement.count().to_frame().unstack().T"
   ]
  },
  {
   "cell_type": "code",
   "execution_count": 4,
   "id": "human-hours",
   "metadata": {
    "ExecuteTime": {
     "end_time": "2024-01-06T11:46:34.048467Z",
     "start_time": "2024-01-06T11:46:32.714231Z"
    }
   },
   "outputs": [
    {
     "data": {
      "image/png": "[encoded data removed]",
      "text/plain": [
       "<Figure size 1296x432 with 6 Axes>"
      ]
     },
     "metadata": {
      "needs_background": "light"
     },
     "output_type": "display_data"
    }
   ],
   "source": [
    "fig = plt.figure(figsize=(18, 6))\n",
    "num_plot = 1\n",
    "for ville in villes:\n",
    "    vue = df[df.ville == ville]\n",
    "    for type_ in ('Appartement', 'Hébergement'):\n",
    "        fig.add_subplot(len(villes), 2, num_plot)\n",
    "        plt.title(f'{ville} ({type_})')\n",
    "        vue[vue.type == type_].prix.hist(bins=20)\n",
    "        num_plot += 1\n",
    "plt.tight_layout()"
   ]
  },
  {
   "cell_type": "code",
   "execution_count": 5,
   "id": "conservative-closure",
   "metadata": {
    "ExecuteTime": {
     "end_time": "2024-01-06T11:48:01.649220Z",
     "start_time": "2024-01-06T11:48:01.630851Z"
    }
   },
   "outputs": [
    {
     "data": {
      "text/plain": [
       "est_nouveau\n",
       "False    605.855491\n",
       "True     644.760870\n",
       "Name: prix, dtype: float64"
      ]
     },
     "execution_count": 5,
     "metadata": {},
     "output_type": "execute_result"
    }
   ],
   "source": [
    "# Être nouveau augmente les prix\n",
    "df.groupby('est_nouveau').prix.mean()"
   ]
  },
  {
   "cell_type": "code",
   "execution_count": 6,
   "id": "satisfactory-likelihood",
   "metadata": {
    "ExecuteTime": {
     "end_time": "2024-01-06T11:48:09.943162Z",
     "start_time": "2024-01-06T11:48:09.932078Z"
    }
   },
   "outputs": [
    {
     "data": {
      "text/plain": [
       "est_professionnel\n",
       "False    601.951872\n",
       "True     684.593750\n",
       "Name: prix, dtype: float64"
      ]
     },
     "execution_count": 6,
     "metadata": {},
     "output_type": "execute_result"
    }
   ],
   "source": [
    "# Être professionnel aussi\n",
    "df.groupby('est_professionnel').prix.mean()"
   ]
  },
  {
   "cell_type": "code",
   "execution_count": 15,
   "id": "knowing-madrid",
   "metadata": {
    "ExecuteTime": {
     "end_time": "2024-01-06T11:49:45.798399Z",
     "start_time": "2024-01-06T11:49:45.572940Z"
    }
   },
   "outputs": [
    {
     "data": {
      "image/png": "[encoded data removed]",
      "text/plain": [
       "<Figure size 432x288 with 1 Axes>"
      ]
     },
     "metadata": {
      "needs_background": "light"
     },
     "output_type": "display_data"
    }
   ],
   "source": [
    "# Comment évoluent les prix ?\n",
    "import seaborn as sns\n",
    "vue = df[df.ville == 'Cachan']\n",
    "\n",
    "\n",
    "sns.boxplot(x=vue.date_enregistrement, y=vue.prix, color='lightgray')\n",
    "médianes = vue.groupby('date_enregistrement').prix.median()\n",
    "for i, médiane in enumerate(médianes):\n",
    "    plt.text(i, médiane + 50, f'{médiane:.0f}€', ha='center')\n",
    "plt.title('Évolution des prix');"
   ]
  },
  {
   "cell_type": "code",
   "execution_count": null,
   "id": "leading-density",
   "metadata": {},
   "outputs": [],
   "source": []
  },
  {
   "cell_type": "markdown",
   "id": "narrow-indian",
   "metadata": {},
   "source": [
    "## Suivi des logements dans le temps"
   ]
  },
  {
   "cell_type": "code",
   "execution_count": 17,
   "id": "aware-reminder",
   "metadata": {
    "ExecuteTime": {
     "end_time": "2024-01-06T11:51:12.572780Z",
     "start_time": "2024-01-06T11:51:12.552141Z"
    }
   },
   "outputs": [
    {
     "data": {
      "text/html": [
       "<div>\n",
       "<style scoped>\n",
       "    .dataframe tbody tr th:only-of-type {\n",
       "        vertical-align: middle;\n",
       "    }\n",
       "\n",
       "    .dataframe tbody tr th {\n",
       "        vertical-align: top;\n",
       "    }\n",
       "\n",
       "    .dataframe thead th {\n",
       "        text-align: right;\n",
       "    }\n",
       "</style>\n",
       "<table border=\"1\" class=\"dataframe\">\n",
       "  <thead>\n",
       "    <tr style=\"text-align: right;\">\n",
       "      <th></th>\n",
       "      <th>date_enregistrement</th>\n",
       "      <th>type</th>\n",
       "      <th>ville</th>\n",
       "      <th>description</th>\n",
       "      <th>prix</th>\n",
       "      <th>note</th>\n",
       "      <th>nb_avis</th>\n",
       "      <th>nb_lits</th>\n",
       "      <th>nb_chambres</th>\n",
       "      <th>est_professionnel</th>\n",
       "      <th>est_nouveau</th>\n",
       "    </tr>\n",
       "  </thead>\n",
       "  <tbody>\n",
       "    <tr>\n",
       "      <th>193</th>\n",
       "      <td>2023-12-25</td>\n",
       "      <td>Appartement</td>\n",
       "      <td>Arcueil</td>\n",
       "      <td>L'Essentiel : Appartement lumineux proche de tout</td>\n",
       "      <td>381</td>\n",
       "      <td>4.86</td>\n",
       "      <td>7.0</td>\n",
       "      <td>NaN</td>\n",
       "      <td>NaN</td>\n",
       "      <td>True</td>\n",
       "      <td>False</td>\n",
       "    </tr>\n",
       "    <tr>\n",
       "      <th>159</th>\n",
       "      <td>2023-12-25</td>\n",
       "      <td>Appartement</td>\n",
       "      <td>Cachan</td>\n",
       "      <td>Joli 3 pièces à 10 min de Paris</td>\n",
       "      <td>391</td>\n",
       "      <td>NaN</td>\n",
       "      <td>NaN</td>\n",
       "      <td>NaN</td>\n",
       "      <td>NaN</td>\n",
       "      <td>False</td>\n",
       "      <td>False</td>\n",
       "    </tr>\n",
       "    <tr>\n",
       "      <th>137</th>\n",
       "      <td>2023-12-25</td>\n",
       "      <td>Appartement</td>\n",
       "      <td>Bourg-la-Reine</td>\n",
       "      <td>Appt. 30 mins de Paris centre 53m2 balcon calme</td>\n",
       "      <td>295</td>\n",
       "      <td>NaN</td>\n",
       "      <td>NaN</td>\n",
       "      <td>NaN</td>\n",
       "      <td>NaN</td>\n",
       "      <td>False</td>\n",
       "      <td>True</td>\n",
       "    </tr>\n",
       "  </tbody>\n",
       "</table>\n",
       "</div>"
      ],
      "text/plain": [
       "    date_enregistrement         type           ville  \\\n",
       "193          2023-12-25  Appartement         Arcueil   \n",
       "159          2023-12-25  Appartement          Cachan   \n",
       "137          2023-12-25  Appartement  Bourg-la-Reine   \n",
       "\n",
       "                                           description  prix  note  nb_avis  \\\n",
       "193  L'Essentiel : Appartement lumineux proche de tout   381  4.86      7.0   \n",
       "159                    Joli 3 pièces à 10 min de Paris   391   NaN      NaN   \n",
       "137    Appt. 30 mins de Paris centre 53m2 balcon calme   295   NaN      NaN   \n",
       "\n",
       "     nb_lits  nb_chambres  est_professionnel  est_nouveau  \n",
       "193      NaN          NaN               True        False  \n",
       "159      NaN          NaN              False        False  \n",
       "137      NaN          NaN              False         True  "
      ]
     },
     "execution_count": 17,
     "metadata": {},
     "output_type": "execute_result"
    }
   ],
   "source": [
    "df.sample(3)"
   ]
  },
  {
   "cell_type": "code",
   "execution_count": 18,
   "id": "suspected-madonna",
   "metadata": {
    "ExecuteTime": {
     "end_time": "2024-01-06T11:51:29.776832Z",
     "start_time": "2024-01-06T11:51:29.771874Z"
    }
   },
   "outputs": [],
   "source": [
    "clé = ['type', 'ville', 'description']"
   ]
  },
  {
   "cell_type": "code",
   "execution_count": 19,
   "id": "respiratory-prerequisite",
   "metadata": {
    "ExecuteTime": {
     "end_time": "2024-01-06T11:51:32.246102Z",
     "start_time": "2024-01-06T11:51:32.181773Z"
    }
   },
   "outputs": [
    {
     "data": {
      "text/html": [
       "<div>\n",
       "<style scoped>\n",
       "    .dataframe tbody tr th:only-of-type {\n",
       "        vertical-align: middle;\n",
       "    }\n",
       "\n",
       "    .dataframe tbody tr th {\n",
       "        vertical-align: top;\n",
       "    }\n",
       "\n",
       "    .dataframe thead th {\n",
       "        text-align: right;\n",
       "    }\n",
       "</style>\n",
       "<table border=\"1\" class=\"dataframe\">\n",
       "  <thead>\n",
       "    <tr style=\"text-align: right;\">\n",
       "      <th></th>\n",
       "      <th></th>\n",
       "      <th></th>\n",
       "      <th>2023-12-20</th>\n",
       "      <th>2023-12-25</th>\n",
       "      <th>2024-01-06</th>\n",
       "    </tr>\n",
       "    <tr>\n",
       "      <th>type</th>\n",
       "      <th>ville</th>\n",
       "      <th>description</th>\n",
       "      <th></th>\n",
       "      <th></th>\n",
       "      <th></th>\n",
       "    </tr>\n",
       "  </thead>\n",
       "  <tbody>\n",
       "    <tr>\n",
       "      <th rowspan=\"5\" valign=\"top\">Appartement</th>\n",
       "      <th rowspan=\"5\" valign=\"top\">Arcueil</th>\n",
       "      <th>Appartement Cocon avec parking privé près de Paris</th>\n",
       "      <td>690.0</td>\n",
       "      <td>558.0</td>\n",
       "      <td>NaN</td>\n",
       "    </tr>\n",
       "    <tr>\n",
       "      <th>Appartement duplex - Arcueil</th>\n",
       "      <td>565.0</td>\n",
       "      <td>565.0</td>\n",
       "      <td>597.0</td>\n",
       "    </tr>\n",
       "    <tr>\n",
       "      <th>Beau T3 à Arcueil à 3 min RER B « Laplace »</th>\n",
       "      <td>573.0</td>\n",
       "      <td>447.0</td>\n",
       "      <td>NaN</td>\n",
       "    </tr>\n",
       "    <tr>\n",
       "      <th>Home sweet home in Paris</th>\n",
       "      <td>579.0</td>\n",
       "      <td>579.0</td>\n",
       "      <td>NaN</td>\n",
       "    </tr>\n",
       "    <tr>\n",
       "      <th>L'Essentiel : Appartement lumineux proche de tout</th>\n",
       "      <td>381.0</td>\n",
       "      <td>NaN</td>\n",
       "      <td>NaN</td>\n",
       "    </tr>\n",
       "    <tr>\n",
       "      <th>...</th>\n",
       "      <th>...</th>\n",
       "      <th>...</th>\n",
       "      <td>...</td>\n",
       "      <td>...</td>\n",
       "      <td>...</td>\n",
       "    </tr>\n",
       "    <tr>\n",
       "      <th rowspan=\"3\" valign=\"top\">Maison de ville</th>\n",
       "      <th>Arcueil</th>\n",
       "      <th>Arcueil House (maison de ville)</th>\n",
       "      <td>611.0</td>\n",
       "      <td>NaN</td>\n",
       "      <td>NaN</td>\n",
       "    </tr>\n",
       "    <tr>\n",
       "      <th>Bourg-la-Reine</th>\n",
       "      <th>Maison de ville avec jardin</th>\n",
       "      <td>342.0</td>\n",
       "      <td>NaN</td>\n",
       "      <td>NaN</td>\n",
       "    </tr>\n",
       "    <tr>\n",
       "      <th>Cachan</th>\n",
       "      <th>La Maison du Figuier-Direct StadeDeFrance/Airports</th>\n",
       "      <td>728.0</td>\n",
       "      <td>NaN</td>\n",
       "      <td>NaN</td>\n",
       "    </tr>\n",
       "    <tr>\n",
       "      <th rowspan=\"2\" valign=\"top\">Villa</th>\n",
       "      <th rowspan=\"2\" valign=\"top\">Cachan</th>\n",
       "      <th>Jardin fleuri tout près de Paris</th>\n",
       "      <td>916.0</td>\n",
       "      <td>916.0</td>\n",
       "      <td>831.0</td>\n",
       "    </tr>\n",
       "    <tr>\n",
       "      <th>Maison et jardin boisé A 10 minutes de Paris !</th>\n",
       "      <td>805.0</td>\n",
       "      <td>NaN</td>\n",
       "      <td>NaN</td>\n",
       "    </tr>\n",
       "  </tbody>\n",
       "</table>\n",
       "<p>85 rows × 3 columns</p>\n",
       "</div>"
      ],
      "text/plain": [
       "                                                                                   2023-12-20  \\\n",
       "type            ville          description                                                      \n",
       "Appartement     Arcueil        Appartement Cocon avec parking privé près de Paris       690.0   \n",
       "                               Appartement duplex - Arcueil                             565.0   \n",
       "                               Beau T3 à Arcueil à 3 min RER B « Laplace »              573.0   \n",
       "                               Home sweet home in Paris                                 579.0   \n",
       "                               L'Essentiel : Appartement lumineux proche de tout        381.0   \n",
       "...                                                                                       ...   \n",
       "Maison de ville Arcueil        Arcueil House (maison de ville)                          611.0   \n",
       "                Bourg-la-Reine Maison de ville avec jardin                              342.0   \n",
       "                Cachan         La Maison du Figuier-Direct StadeDeFrance/Airports       728.0   \n",
       "Villa           Cachan         Jardin fleuri tout près de Paris                         916.0   \n",
       "                               Maison et jardin boisé A 10 minutes de Paris !           805.0   \n",
       "\n",
       "                                                                                   2023-12-25  \\\n",
       "type            ville          description                                                      \n",
       "Appartement     Arcueil        Appartement Cocon avec parking privé près de Paris       558.0   \n",
       "                               Appartement duplex - Arcueil                             565.0   \n",
       "                               Beau T3 à Arcueil à 3 min RER B « Laplace »              447.0   \n",
       "                               Home sweet home in Paris                                 579.0   \n",
       "                               L'Essentiel : Appartement lumineux proche de tout          NaN   \n",
       "...                                                                                       ...   \n",
       "Maison de ville Arcueil        Arcueil House (maison de ville)                            NaN   \n",
       "                Bourg-la-Reine Maison de ville avec jardin                                NaN   \n",
       "                Cachan         La Maison du Figuier-Direct StadeDeFrance/Airports         NaN   \n",
       "Villa           Cachan         Jardin fleuri tout près de Paris                         916.0   \n",
       "                               Maison et jardin boisé A 10 minutes de Paris !             NaN   \n",
       "\n",
       "                                                                                   2024-01-06  \n",
       "type            ville          description                                                     \n",
       "Appartement     Arcueil        Appartement Cocon avec parking privé près de Paris         NaN  \n",
       "                               Appartement duplex - Arcueil                             597.0  \n",
       "                               Beau T3 à Arcueil à 3 min RER B « Laplace »                NaN  \n",
       "                               Home sweet home in Paris                                   NaN  \n",
       "                               L'Essentiel : Appartement lumineux proche de tout          NaN  \n",
       "...                                                                                       ...  \n",
       "Maison de ville Arcueil        Arcueil House (maison de ville)                            NaN  \n",
       "                Bourg-la-Reine Maison de ville avec jardin                                NaN  \n",
       "                Cachan         La Maison du Figuier-Direct StadeDeFrance/Airports         NaN  \n",
       "Villa           Cachan         Jardin fleuri tout près de Paris                         831.0  \n",
       "                               Maison et jardin boisé A 10 minutes de Paris !             NaN  \n",
       "\n",
       "[85 rows x 3 columns]"
      ]
     },
     "execution_count": 19,
     "metadata": {},
     "output_type": "execute_result"
    }
   ],
   "source": [
    "vue = df[['date_enregistrement'] + clé + ['prix']].drop_duplicates()\n",
    "gb = vue.groupby(clé).prix.apply(list).apply(pd.Series)\n",
    "dates = list(map(lambda d: d.strftime('%Y-%m-%d'), vue.date_enregistrement.unique()))\n",
    "gb.columns = dates\n",
    "gb"
   ]
  },
  {
   "cell_type": "code",
   "execution_count": 20,
   "id": "regional-order",
   "metadata": {
    "ExecuteTime": {
     "end_time": "2024-01-06T11:51:45.797763Z",
     "start_time": "2024-01-06T11:51:45.781807Z"
    }
   },
   "outputs": [
    {
     "data": {
      "text/html": [
       "<div>\n",
       "<style scoped>\n",
       "    .dataframe tbody tr th:only-of-type {\n",
       "        vertical-align: middle;\n",
       "    }\n",
       "\n",
       "    .dataframe tbody tr th {\n",
       "        vertical-align: top;\n",
       "    }\n",
       "\n",
       "    .dataframe thead th {\n",
       "        text-align: right;\n",
       "    }\n",
       "</style>\n",
       "<table border=\"1\" class=\"dataframe\">\n",
       "  <thead>\n",
       "    <tr style=\"text-align: right;\">\n",
       "      <th></th>\n",
       "      <th></th>\n",
       "      <th></th>\n",
       "      <th>2023-12-20</th>\n",
       "      <th>2023-12-25</th>\n",
       "      <th>2024-01-06</th>\n",
       "    </tr>\n",
       "    <tr>\n",
       "      <th>type</th>\n",
       "      <th>ville</th>\n",
       "      <th>description</th>\n",
       "      <th></th>\n",
       "      <th></th>\n",
       "      <th></th>\n",
       "    </tr>\n",
       "  </thead>\n",
       "  <tbody>\n",
       "    <tr>\n",
       "      <th>Appartement</th>\n",
       "      <th>Cachan</th>\n",
       "      <th>2P a 10 min à pied du RER B</th>\n",
       "      <td>389.0</td>\n",
       "      <td>380.0</td>\n",
       "      <td>395.0</td>\n",
       "    </tr>\n",
       "    <tr>\n",
       "      <th>Hébergement</th>\n",
       "      <th>Arcueil</th>\n",
       "      <th>La Maison Ensoleillée - 2 Chambres - RER B &amp; M7</th>\n",
       "      <td>1425.0</td>\n",
       "      <td>1355.0</td>\n",
       "      <td>1387.0</td>\n",
       "    </tr>\n",
       "  </tbody>\n",
       "</table>\n",
       "</div>"
      ],
      "text/plain": [
       "                                                                     2023-12-20  \\\n",
       "type        ville   description                                                   \n",
       "Appartement Cachan  2P a 10 min à pied du RER B                           389.0   \n",
       "Hébergement Arcueil La Maison Ensoleillée - 2 Chambres - RER B & M7      1425.0   \n",
       "\n",
       "                                                                     2023-12-25  \\\n",
       "type        ville   description                                                   \n",
       "Appartement Cachan  2P a 10 min à pied du RER B                           380.0   \n",
       "Hébergement Arcueil La Maison Ensoleillée - 2 Chambres - RER B & M7      1355.0   \n",
       "\n",
       "                                                                     2024-01-06  \n",
       "type        ville   description                                                  \n",
       "Appartement Cachan  2P a 10 min à pied du RER B                           395.0  \n",
       "Hébergement Arcueil La Maison Ensoleillée - 2 Chambres - RER B & M7      1387.0  "
      ]
     },
     "execution_count": 20,
     "metadata": {},
     "output_type": "execute_result"
    }
   ],
   "source": [
    "# Ceux qui changent de stratégie :\n",
    "gb[gb['2023-12-20'] != gb['2023-12-25']].dropna(how='any')\n",
    "TODO"
   ]
  },
  {
   "cell_type": "code",
   "execution_count": null,
   "id": "olive-transcript",
   "metadata": {},
   "outputs": [],
   "source": [
    "# Ceux qui ont vendu :\n",
    "TODO"
   ]
  },
  {
   "cell_type": "markdown",
   "id": "traditional-bracket",
   "metadata": {
    "heading_collapsed": true
   },
   "source": [
    "## Annexes"
   ]
  },
  {
   "cell_type": "code",
   "execution_count": 122,
   "id": "cellular-guidance",
   "metadata": {
    "ExecuteTime": {
     "end_time": "2023-12-25T09:29:49.980583Z",
     "start_time": "2023-12-25T09:29:49.961597Z"
    },
    "hidden": true,
    "scrolled": true
   },
   "outputs": [
    {
     "data": {
      "text/html": [
       "<div>\n",
       "<style scoped>\n",
       "    .dataframe tbody tr th:only-of-type {\n",
       "        vertical-align: middle;\n",
       "    }\n",
       "\n",
       "    .dataframe tbody tr th {\n",
       "        vertical-align: top;\n",
       "    }\n",
       "\n",
       "    .dataframe thead th {\n",
       "        text-align: right;\n",
       "    }\n",
       "</style>\n",
       "<table border=\"1\" class=\"dataframe\">\n",
       "  <thead>\n",
       "    <tr style=\"text-align: right;\">\n",
       "      <th></th>\n",
       "      <th>type</th>\n",
       "      <th>ville</th>\n",
       "      <th>description</th>\n",
       "      <th>prix</th>\n",
       "      <th>nb_lits</th>\n",
       "      <th>nb_chambres</th>\n",
       "      <th>est_professionnel</th>\n",
       "    </tr>\n",
       "  </thead>\n",
       "  <tbody>\n",
       "    <tr>\n",
       "      <th>41</th>\n",
       "      <td>Hébergement</td>\n",
       "      <td>Arcueil</td>\n",
       "      <td>La Maison Ensoleillée - 2 Chambres - RER B &amp; M7</td>\n",
       "      <td>1425</td>\n",
       "      <td>NaN</td>\n",
       "      <td>NaN</td>\n",
       "      <td>False</td>\n",
       "    </tr>\n",
       "    <tr>\n",
       "      <th>57</th>\n",
       "      <td>Appartement</td>\n",
       "      <td>Cachan</td>\n",
       "      <td>2P a 10 min à pied du RER B</td>\n",
       "      <td>389</td>\n",
       "      <td>NaN</td>\n",
       "      <td>NaN</td>\n",
       "      <td>False</td>\n",
       "    </tr>\n",
       "    <tr>\n",
       "      <th>197</th>\n",
       "      <td>Appartement</td>\n",
       "      <td>Cachan</td>\n",
       "      <td>2P a 10 min à pied du RER B</td>\n",
       "      <td>380</td>\n",
       "      <td>NaN</td>\n",
       "      <td>NaN</td>\n",
       "      <td>False</td>\n",
       "    </tr>\n",
       "    <tr>\n",
       "      <th>239</th>\n",
       "      <td>Hébergement</td>\n",
       "      <td>Arcueil</td>\n",
       "      <td>La Maison Ensoleillée - 2 Chambres - RER B &amp; M7</td>\n",
       "      <td>1355</td>\n",
       "      <td>NaN</td>\n",
       "      <td>NaN</td>\n",
       "      <td>False</td>\n",
       "    </tr>\n",
       "  </tbody>\n",
       "</table>\n",
       "</div>"
      ],
      "text/plain": [
       "            type    ville                                      description  \\\n",
       "41   Hébergement  Arcueil  La Maison Ensoleillée - 2 Chambres - RER B & M7   \n",
       "57   Appartement   Cachan                      2P a 10 min à pied du RER B   \n",
       "197  Appartement   Cachan                      2P a 10 min à pied du RER B   \n",
       "239  Hébergement  Arcueil  La Maison Ensoleillée - 2 Chambres - RER B & M7   \n",
       "\n",
       "     prix  nb_lits  nb_chambres  est_professionnel  \n",
       "41   1425      NaN          NaN              False  \n",
       "57    389      NaN          NaN              False  \n",
       "197   380      NaN          NaN              False  \n",
       "239  1355      NaN          NaN              False  "
      ]
     },
     "execution_count": 122,
     "metadata": {},
     "output_type": "execute_result"
    }
   ],
   "source": [
    "# Recherche d'une clé primaire : \n",
    "variables_dynamiques = ['date_enregistrement', 'est_nouveau', 'note', 'nb_avis']\n",
    "vue = df.drop(variables_dynamiques, axis=1).drop_duplicates()\n",
    "vue[vue[clé].duplicated(keep=False)]\n",
    "\n",
    "# --> les logements qui apparaissent sont ceux qui ont changé de stratégie de prix !\n",
    "# --> la clé ['ville', 'type', 'description'] identifie donc un logement de façon unique"
   ]
  }
 ],
 "metadata": {
  "kernelspec": {
   "display_name": "pierrou_env",
   "language": "python",
   "name": "pierrou_env"
  },
  "language_info": {
   "codemirror_mode": {
    "name": "ipython",
    "version": 3
   },
   "file_extension": ".py",
   "mimetype": "text/x-python",
   "name": "python",
   "nbconvert_exporter": "python",
   "pygments_lexer": "ipython3",
   "version": "3.8.5"
  }
 },
 "nbformat": 4,
 "nbformat_minor": 5
}
